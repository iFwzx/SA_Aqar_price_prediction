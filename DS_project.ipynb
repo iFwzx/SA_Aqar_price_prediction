{
  "cells": [
    {
      "cell_type": "code",
      "execution_count": null,
      "metadata": {
        "id": "gaA5WJaGhPXg"
      },
      "outputs": [],
      "source": [
        "import pandas as pd\n",
        "import numpy as np\n",
        "#import optuna"
      ]
    },
    {
      "cell_type": "code",
      "execution_count": null,
      "metadata": {
        "colab": {
          "base_uri": "https://localhost:8080/",
          "height": 238
        },
        "id": "5HOB3s5chkI7",
        "outputId": "2346e05f-4f02-4301-88c6-7c210c832a4f"
      },
      "outputs": [
        {
          "name": "stdout",
          "output_type": "stream",
          "text": [
            "<class 'pandas.core.frame.DataFrame'>\n",
            "RangeIndex: 3718 entries, 0 to 3717\n",
            "Data columns (total 24 columns):\n",
            " #   Column        Non-Null Count  Dtype \n",
            "---  ------        --------------  ----- \n",
            " 0   city          3718 non-null   object\n",
            " 1   district      3718 non-null   object\n",
            " 2   front         3718 non-null   object\n",
            " 3   size          3718 non-null   int64 \n",
            " 4   property_age  3718 non-null   int64 \n",
            " 5   bedrooms      3718 non-null   int64 \n",
            " 6   bathrooms     3718 non-null   int64 \n",
            " 7   livingrooms   3718 non-null   int64 \n",
            " 8   kitchen       3718 non-null   int64 \n",
            " 9   garage        3718 non-null   int64 \n",
            " 10  driver_room   3718 non-null   int64 \n",
            " 11  maid_room     3718 non-null   int64 \n",
            " 12  furnished     3718 non-null   int64 \n",
            " 13  ac            3718 non-null   int64 \n",
            " 14  roof          3718 non-null   int64 \n",
            " 15  pool          3718 non-null   int64 \n",
            " 16  frontyard     3718 non-null   int64 \n",
            " 17  basement      3718 non-null   int64 \n",
            " 18  duplex        3718 non-null   int64 \n",
            " 19  stairs        3718 non-null   int64 \n",
            " 20  elevator      3718 non-null   int64 \n",
            " 21  fireplace     3718 non-null   int64 \n",
            " 22  price         3718 non-null   int64 \n",
            " 23  details       3638 non-null   object\n",
            "dtypes: int64(20), object(4)\n",
            "memory usage: 697.2+ KB\n"
          ]
        }
      ],
      "source": [
        "df = pd.read_csv('SA_Aqar.csv')\n",
        "df.info()"
      ]
    },
    {
      "cell_type": "code",
      "execution_count": null,
      "metadata": {
        "id": "8Ca5LCqoWj14",
        "outputId": "fece5f0e-bc52-4029-a92a-bacddb0213e9"
      },
      "outputs": [
        {
          "data": {
            "text/html": [
              "<div>\n",
              "<style scoped>\n",
              "    .dataframe tbody tr th:only-of-type {\n",
              "        vertical-align: middle;\n",
              "    }\n",
              "\n",
              "    .dataframe tbody tr th {\n",
              "        vertical-align: top;\n",
              "    }\n",
              "\n",
              "    .dataframe thead th {\n",
              "        text-align: right;\n",
              "    }\n",
              "</style>\n",
              "<table border=\"1\" class=\"dataframe\">\n",
              "  <thead>\n",
              "    <tr style=\"text-align: right;\">\n",
              "      <th></th>\n",
              "      <th>city</th>\n",
              "      <th>district</th>\n",
              "      <th>front</th>\n",
              "      <th>size</th>\n",
              "      <th>property_age</th>\n",
              "      <th>bedrooms</th>\n",
              "      <th>bathrooms</th>\n",
              "      <th>livingrooms</th>\n",
              "      <th>kitchen</th>\n",
              "      <th>garage</th>\n",
              "      <th>...</th>\n",
              "      <th>roof</th>\n",
              "      <th>pool</th>\n",
              "      <th>frontyard</th>\n",
              "      <th>basement</th>\n",
              "      <th>duplex</th>\n",
              "      <th>stairs</th>\n",
              "      <th>elevator</th>\n",
              "      <th>fireplace</th>\n",
              "      <th>price</th>\n",
              "      <th>details</th>\n",
              "    </tr>\n",
              "  </thead>\n",
              "  <tbody>\n",
              "    <tr>\n",
              "      <th>0</th>\n",
              "      <td>الرياض</td>\n",
              "      <td>حي العارض</td>\n",
              "      <td>شمال</td>\n",
              "      <td>250</td>\n",
              "      <td>0</td>\n",
              "      <td>5</td>\n",
              "      <td>5</td>\n",
              "      <td>1</td>\n",
              "      <td>1</td>\n",
              "      <td>1</td>\n",
              "      <td>...</td>\n",
              "      <td>0</td>\n",
              "      <td>0</td>\n",
              "      <td>1</td>\n",
              "      <td>0</td>\n",
              "      <td>1</td>\n",
              "      <td>1</td>\n",
              "      <td>0</td>\n",
              "      <td>0</td>\n",
              "      <td>80000</td>\n",
              "      <td>للايجار فيلا دبلكس في موقع ممتاز جدا بالقرب من...</td>\n",
              "    </tr>\n",
              "    <tr>\n",
              "      <th>1</th>\n",
              "      <td>الرياض</td>\n",
              "      <td>حي القادسية</td>\n",
              "      <td>جنوب</td>\n",
              "      <td>370</td>\n",
              "      <td>0</td>\n",
              "      <td>4</td>\n",
              "      <td>5</td>\n",
              "      <td>2</td>\n",
              "      <td>1</td>\n",
              "      <td>1</td>\n",
              "      <td>...</td>\n",
              "      <td>0</td>\n",
              "      <td>0</td>\n",
              "      <td>1</td>\n",
              "      <td>0</td>\n",
              "      <td>0</td>\n",
              "      <td>1</td>\n",
              "      <td>0</td>\n",
              "      <td>0</td>\n",
              "      <td>60000</td>\n",
              "      <td>*** فيلا درج مع الصالة جديدة ***\\n\\nعبارة عن م...</td>\n",
              "    </tr>\n",
              "    <tr>\n",
              "      <th>2</th>\n",
              "      <td>الرياض</td>\n",
              "      <td>حي القادسية</td>\n",
              "      <td>جنوب</td>\n",
              "      <td>380</td>\n",
              "      <td>0</td>\n",
              "      <td>4</td>\n",
              "      <td>5</td>\n",
              "      <td>1</td>\n",
              "      <td>1</td>\n",
              "      <td>1</td>\n",
              "      <td>...</td>\n",
              "      <td>1</td>\n",
              "      <td>0</td>\n",
              "      <td>1</td>\n",
              "      <td>0</td>\n",
              "      <td>0</td>\n",
              "      <td>1</td>\n",
              "      <td>0</td>\n",
              "      <td>0</td>\n",
              "      <td>60000</td>\n",
              "      <td>فيلا للايجار درج داخلي مشب خارجي مجلس مقلط وصا...</td>\n",
              "    </tr>\n",
              "    <tr>\n",
              "      <th>3</th>\n",
              "      <td>الرياض</td>\n",
              "      <td>حي المعيزلة</td>\n",
              "      <td>غرب</td>\n",
              "      <td>250</td>\n",
              "      <td>0</td>\n",
              "      <td>5</td>\n",
              "      <td>5</td>\n",
              "      <td>3</td>\n",
              "      <td>0</td>\n",
              "      <td>1</td>\n",
              "      <td>...</td>\n",
              "      <td>0</td>\n",
              "      <td>0</td>\n",
              "      <td>1</td>\n",
              "      <td>0</td>\n",
              "      <td>0</td>\n",
              "      <td>0</td>\n",
              "      <td>0</td>\n",
              "      <td>0</td>\n",
              "      <td>55000</td>\n",
              "      <td>فيلا للايجار        جديده لن تستخدم          ش...</td>\n",
              "    </tr>\n",
              "    <tr>\n",
              "      <th>4</th>\n",
              "      <td>الرياض</td>\n",
              "      <td>حي العليا</td>\n",
              "      <td>غرب</td>\n",
              "      <td>400</td>\n",
              "      <td>11</td>\n",
              "      <td>7</td>\n",
              "      <td>5</td>\n",
              "      <td>2</td>\n",
              "      <td>1</td>\n",
              "      <td>1</td>\n",
              "      <td>...</td>\n",
              "      <td>1</td>\n",
              "      <td>0</td>\n",
              "      <td>1</td>\n",
              "      <td>0</td>\n",
              "      <td>1</td>\n",
              "      <td>1</td>\n",
              "      <td>0</td>\n",
              "      <td>0</td>\n",
              "      <td>70000</td>\n",
              "      <td>فيلا للايجار حي العليا \\n\\nالارضي مجالس وغرفتي...</td>\n",
              "    </tr>\n",
              "  </tbody>\n",
              "</table>\n",
              "<p>5 rows × 24 columns</p>\n",
              "</div>"
            ],
            "text/plain": [
              "      city         district front  size  property_age  bedrooms  bathrooms   \n",
              "0   الرياض       حي العارض   شمال   250             0         5          5  \\\n",
              "1   الرياض     حي القادسية   جنوب   370             0         4          5   \n",
              "2   الرياض     حي القادسية   جنوب   380             0         4          5   \n",
              "3   الرياض     حي المعيزلة    غرب   250             0         5          5   \n",
              "4   الرياض       حي العليا    غرب   400            11         7          5   \n",
              "\n",
              "   livingrooms  kitchen  garage  ...  roof  pool  frontyard  basement  duplex   \n",
              "0            1        1       1  ...     0     0          1         0       1  \\\n",
              "1            2        1       1  ...     0     0          1         0       0   \n",
              "2            1        1       1  ...     1     0          1         0       0   \n",
              "3            3        0       1  ...     0     0          1         0       0   \n",
              "4            2        1       1  ...     1     0          1         0       1   \n",
              "\n",
              "   stairs  elevator  fireplace  price   \n",
              "0       1         0          0  80000  \\\n",
              "1       1         0          0  60000   \n",
              "2       1         0          0  60000   \n",
              "3       0         0          0  55000   \n",
              "4       1         0          0  70000   \n",
              "\n",
              "                                             details  \n",
              "0  للايجار فيلا دبلكس في موقع ممتاز جدا بالقرب من...  \n",
              "1  *** فيلا درج مع الصالة جديدة ***\\n\\nعبارة عن م...  \n",
              "2  فيلا للايجار درج داخلي مشب خارجي مجلس مقلط وصا...  \n",
              "3  فيلا للايجار        جديده لن تستخدم          ش...  \n",
              "4  فيلا للايجار حي العليا \\n\\nالارضي مجالس وغرفتي...  \n",
              "\n",
              "[5 rows x 24 columns]"
            ]
          },
          "execution_count": 108,
          "metadata": {},
          "output_type": "execute_result"
        }
      ],
      "source": [
        "df.head()"
      ]
    },
    {
      "cell_type": "code",
      "execution_count": null,
      "metadata": {
        "colab": {
          "base_uri": "https://localhost:8080/"
        },
        "id": "KIvYoHQxhqdQ",
        "outputId": "cd1a4709-35ca-4a83-f51e-7a36ef45bb4d"
      },
      "outputs": [
        {
          "data": {
            "text/plain": [
              "(3718, 24)"
            ]
          },
          "execution_count": 109,
          "metadata": {},
          "output_type": "execute_result"
        }
      ],
      "source": [
        "df.shape"
      ]
    },
    {
      "cell_type": "code",
      "execution_count": null,
      "metadata": {
        "id": "ofjFeovahwML"
      },
      "outputs": [],
      "source": [
        "df.isnull().sum()\n",
        "df.drop('details', axis=1,inplace=True)"
      ]
    },
    {
      "cell_type": "code",
      "execution_count": null,
      "metadata": {
        "id": "UaE3oNXBh1Zx"
      },
      "outputs": [],
      "source": [
        "describe_df = df.describe().T"
      ]
    },
    {
      "cell_type": "code",
      "execution_count": null,
      "metadata": {
        "id": "fqh5lqouWj16"
      },
      "outputs": [],
      "source": [
        "describe_df.to_csv('describe.csv', sep=',')"
      ]
    },
    {
      "cell_type": "code",
      "execution_count": null,
      "metadata": {
        "id": "y7ULPPBeWj16",
        "outputId": "d327b89f-39d2-4e99-bf37-5cc24cf9ced3"
      },
      "outputs": [
        {
          "data": {
            "text/plain": [
              "2207"
            ]
          },
          "execution_count": 75,
          "metadata": {},
          "output_type": "execute_result"
        }
      ],
      "source": [
        "df.duplicated().sum()"
      ]
    },
    {
      "cell_type": "code",
      "execution_count": null,
      "metadata": {
        "id": "dEx5xqGTWj17"
      },
      "outputs": [],
      "source": [
        "target = df.price.values"
      ]
    },
    {
      "cell_type": "code",
      "execution_count": null,
      "metadata": {
        "id": "S_emA8mvWj17"
      },
      "outputs": [],
      "source": [
        "# import  numpy  as  np\n",
        "# logged_target=np.log(target)"
      ]
    },
    {
      "cell_type": "code",
      "execution_count": null,
      "metadata": {
        "id": "Hxfzx-DbWj18"
      },
      "outputs": [],
      "source": [
        "num_features = df.select_dtypes( \"number\").reset_index(drop=True)\n",
        "text_features = df.select_dtypes( \"object\").reset_index(drop=True)"
      ]
    },
    {
      "cell_type": "code",
      "execution_count": null,
      "metadata": {
        "id": "xJR5P5GcWj18",
        "outputId": "3d0f45ef-2a8c-449a-a950-60ce46010563"
      },
      "outputs": [
        {
          "data": {
            "text/html": [
              "<div>\n",
              "<style scoped>\n",
              "    .dataframe tbody tr th:only-of-type {\n",
              "        vertical-align: middle;\n",
              "    }\n",
              "\n",
              "    .dataframe tbody tr th {\n",
              "        vertical-align: top;\n",
              "    }\n",
              "\n",
              "    .dataframe thead th {\n",
              "        text-align: right;\n",
              "    }\n",
              "</style>\n",
              "<table border=\"1\" class=\"dataframe\">\n",
              "  <thead>\n",
              "    <tr style=\"text-align: right;\">\n",
              "      <th></th>\n",
              "      <th>city</th>\n",
              "      <th>district</th>\n",
              "      <th>front</th>\n",
              "    </tr>\n",
              "  </thead>\n",
              "  <tbody>\n",
              "    <tr>\n",
              "      <th>0</th>\n",
              "      <td>الرياض</td>\n",
              "      <td>حي العارض</td>\n",
              "      <td>شمال</td>\n",
              "    </tr>\n",
              "    <tr>\n",
              "      <th>1</th>\n",
              "      <td>الرياض</td>\n",
              "      <td>حي القادسية</td>\n",
              "      <td>جنوب</td>\n",
              "    </tr>\n",
              "    <tr>\n",
              "      <th>2</th>\n",
              "      <td>الرياض</td>\n",
              "      <td>حي القادسية</td>\n",
              "      <td>جنوب</td>\n",
              "    </tr>\n",
              "    <tr>\n",
              "      <th>3</th>\n",
              "      <td>الرياض</td>\n",
              "      <td>حي المعيزلة</td>\n",
              "      <td>غرب</td>\n",
              "    </tr>\n",
              "    <tr>\n",
              "      <th>4</th>\n",
              "      <td>الرياض</td>\n",
              "      <td>حي العليا</td>\n",
              "      <td>غرب</td>\n",
              "    </tr>\n",
              "    <tr>\n",
              "      <th>...</th>\n",
              "      <td>...</td>\n",
              "      <td>...</td>\n",
              "      <td>...</td>\n",
              "    </tr>\n",
              "    <tr>\n",
              "      <th>3713</th>\n",
              "      <td>الخبر</td>\n",
              "      <td>حي اللؤلؤ</td>\n",
              "      <td>غرب</td>\n",
              "    </tr>\n",
              "    <tr>\n",
              "      <th>3714</th>\n",
              "      <td>الخبر</td>\n",
              "      <td>حي الصواري</td>\n",
              "      <td>جنوب</td>\n",
              "    </tr>\n",
              "    <tr>\n",
              "      <th>3715</th>\n",
              "      <td>الخبر</td>\n",
              "      <td>حي اللؤلؤ</td>\n",
              "      <td>غرب</td>\n",
              "    </tr>\n",
              "    <tr>\n",
              "      <th>3716</th>\n",
              "      <td>الخبر</td>\n",
              "      <td>حي الكورنيش</td>\n",
              "      <td>جنوب</td>\n",
              "    </tr>\n",
              "    <tr>\n",
              "      <th>3717</th>\n",
              "      <td>الخبر</td>\n",
              "      <td>حي الامواج</td>\n",
              "      <td>غرب</td>\n",
              "    </tr>\n",
              "  </tbody>\n",
              "</table>\n",
              "<p>3718 rows × 3 columns</p>\n",
              "</div>"
            ],
            "text/plain": [
              "         city         district front\n",
              "0      الرياض       حي العارض   شمال\n",
              "1      الرياض     حي القادسية   جنوب\n",
              "2      الرياض     حي القادسية   جنوب\n",
              "3      الرياض     حي المعيزلة    غرب\n",
              "4      الرياض       حي العليا    غرب\n",
              "...       ...              ...   ...\n",
              "3713    الخبر       حي اللؤلؤ    غرب\n",
              "3714    الخبر      حي الصواري   جنوب\n",
              "3715    الخبر       حي اللؤلؤ    غرب\n",
              "3716    الخبر     حي الكورنيش   جنوب\n",
              "3717    الخبر      حي الامواج    غرب\n",
              "\n",
              "[3718 rows x 3 columns]"
            ]
          },
          "execution_count": 79,
          "metadata": {},
          "output_type": "execute_result"
        }
      ],
      "source": [
        "text_features"
      ]
    },
    {
      "cell_type": "code",
      "execution_count": null,
      "metadata": {
        "id": "Vs1fB9KUWj19"
      },
      "outputs": [],
      "source": [
        "# from sklearn.preprocessing import OneHotEncoder\n",
        "# ohe = OneHotEncoder(sparse=False)\n",
        "# ohe.fit(text_features)\n",
        "# ohe_data = ohe.transform(text_features)\n",
        "# ohe_data = pd.DataFrame(ohe_data,columns=ohe.get_feature_names_out())"
      ]
    },
    {
      "cell_type": "code",
      "execution_count": null,
      "metadata": {
        "id": "SAKtJyDtWj19"
      },
      "outputs": [],
      "source": [
        "categorical_columns = [\n",
        "    column for column in df.columns\n",
        "    if df[column].dtype in [\"object\"]\n",
        "]"
      ]
    },
    {
      "cell_type": "code",
      "execution_count": null,
      "metadata": {
        "id": "_LLriIk-Wj19",
        "outputId": "ca6975f5-78fe-42b2-c0d6-5301ea77eba2"
      },
      "outputs": [
        {
          "data": {
            "text/plain": [
              "['city', 'district', 'front']"
            ]
          },
          "execution_count": 82,
          "metadata": {},
          "output_type": "execute_result"
        }
      ],
      "source": [
        "categorical_columns"
      ]
    },
    {
      "cell_type": "code",
      "execution_count": null,
      "metadata": {
        "scrolled": false,
        "id": "7B336ZW8Wj1-"
      },
      "outputs": [],
      "source": [
        "from sklearn.preprocessing import LabelEncoder\n",
        "\n",
        "label_encoder = LabelEncoder()\n",
        "df[categorical_columns] = df[categorical_columns].apply(label_encoder.fit_transform)"
      ]
    },
    {
      "cell_type": "code",
      "execution_count": null,
      "metadata": {
        "id": "IdJW7-QYWj1-",
        "outputId": "f85349e0-8fab-443c-e626-937a778c00d9"
      },
      "outputs": [
        {
          "data": {
            "text/html": [
              "<div>\n",
              "<style scoped>\n",
              "    .dataframe tbody tr th:only-of-type {\n",
              "        vertical-align: middle;\n",
              "    }\n",
              "\n",
              "    .dataframe tbody tr th {\n",
              "        vertical-align: top;\n",
              "    }\n",
              "\n",
              "    .dataframe thead th {\n",
              "        text-align: right;\n",
              "    }\n",
              "</style>\n",
              "<table border=\"1\" class=\"dataframe\">\n",
              "  <thead>\n",
              "    <tr style=\"text-align: right;\">\n",
              "      <th></th>\n",
              "      <th>city</th>\n",
              "      <th>district</th>\n",
              "      <th>front</th>\n",
              "      <th>size</th>\n",
              "      <th>property_age</th>\n",
              "      <th>bedrooms</th>\n",
              "      <th>bathrooms</th>\n",
              "      <th>livingrooms</th>\n",
              "      <th>kitchen</th>\n",
              "      <th>garage</th>\n",
              "      <th>...</th>\n",
              "      <th>ac</th>\n",
              "      <th>roof</th>\n",
              "      <th>pool</th>\n",
              "      <th>frontyard</th>\n",
              "      <th>basement</th>\n",
              "      <th>duplex</th>\n",
              "      <th>stairs</th>\n",
              "      <th>elevator</th>\n",
              "      <th>fireplace</th>\n",
              "      <th>price</th>\n",
              "    </tr>\n",
              "  </thead>\n",
              "  <tbody>\n",
              "    <tr>\n",
              "      <th>0</th>\n",
              "      <td>2</td>\n",
              "      <td>79</td>\n",
              "      <td>6</td>\n",
              "      <td>250</td>\n",
              "      <td>0</td>\n",
              "      <td>5</td>\n",
              "      <td>5</td>\n",
              "      <td>1</td>\n",
              "      <td>1</td>\n",
              "      <td>1</td>\n",
              "      <td>...</td>\n",
              "      <td>0</td>\n",
              "      <td>0</td>\n",
              "      <td>0</td>\n",
              "      <td>1</td>\n",
              "      <td>0</td>\n",
              "      <td>1</td>\n",
              "      <td>1</td>\n",
              "      <td>0</td>\n",
              "      <td>0</td>\n",
              "      <td>80000</td>\n",
              "    </tr>\n",
              "    <tr>\n",
              "      <th>1</th>\n",
              "      <td>2</td>\n",
              "      <td>92</td>\n",
              "      <td>2</td>\n",
              "      <td>370</td>\n",
              "      <td>0</td>\n",
              "      <td>4</td>\n",
              "      <td>5</td>\n",
              "      <td>2</td>\n",
              "      <td>1</td>\n",
              "      <td>1</td>\n",
              "      <td>...</td>\n",
              "      <td>0</td>\n",
              "      <td>0</td>\n",
              "      <td>0</td>\n",
              "      <td>1</td>\n",
              "      <td>0</td>\n",
              "      <td>0</td>\n",
              "      <td>1</td>\n",
              "      <td>0</td>\n",
              "      <td>0</td>\n",
              "      <td>60000</td>\n",
              "    </tr>\n",
              "    <tr>\n",
              "      <th>2</th>\n",
              "      <td>2</td>\n",
              "      <td>92</td>\n",
              "      <td>2</td>\n",
              "      <td>380</td>\n",
              "      <td>0</td>\n",
              "      <td>4</td>\n",
              "      <td>5</td>\n",
              "      <td>1</td>\n",
              "      <td>1</td>\n",
              "      <td>1</td>\n",
              "      <td>...</td>\n",
              "      <td>0</td>\n",
              "      <td>1</td>\n",
              "      <td>0</td>\n",
              "      <td>1</td>\n",
              "      <td>0</td>\n",
              "      <td>0</td>\n",
              "      <td>1</td>\n",
              "      <td>0</td>\n",
              "      <td>0</td>\n",
              "      <td>60000</td>\n",
              "    </tr>\n",
              "    <tr>\n",
              "      <th>3</th>\n",
              "      <td>2</td>\n",
              "      <td>109</td>\n",
              "      <td>9</td>\n",
              "      <td>250</td>\n",
              "      <td>0</td>\n",
              "      <td>5</td>\n",
              "      <td>5</td>\n",
              "      <td>3</td>\n",
              "      <td>0</td>\n",
              "      <td>1</td>\n",
              "      <td>...</td>\n",
              "      <td>0</td>\n",
              "      <td>0</td>\n",
              "      <td>0</td>\n",
              "      <td>1</td>\n",
              "      <td>0</td>\n",
              "      <td>0</td>\n",
              "      <td>0</td>\n",
              "      <td>0</td>\n",
              "      <td>0</td>\n",
              "      <td>55000</td>\n",
              "    </tr>\n",
              "    <tr>\n",
              "      <th>4</th>\n",
              "      <td>2</td>\n",
              "      <td>86</td>\n",
              "      <td>9</td>\n",
              "      <td>400</td>\n",
              "      <td>11</td>\n",
              "      <td>7</td>\n",
              "      <td>5</td>\n",
              "      <td>2</td>\n",
              "      <td>1</td>\n",
              "      <td>1</td>\n",
              "      <td>...</td>\n",
              "      <td>0</td>\n",
              "      <td>1</td>\n",
              "      <td>0</td>\n",
              "      <td>1</td>\n",
              "      <td>0</td>\n",
              "      <td>1</td>\n",
              "      <td>1</td>\n",
              "      <td>0</td>\n",
              "      <td>0</td>\n",
              "      <td>70000</td>\n",
              "    </tr>\n",
              "  </tbody>\n",
              "</table>\n",
              "<p>5 rows × 23 columns</p>\n",
              "</div>"
            ],
            "text/plain": [
              "   city  district  front  size  property_age  bedrooms  bathrooms   \n",
              "0     2        79      6   250             0         5          5  \\\n",
              "1     2        92      2   370             0         4          5   \n",
              "2     2        92      2   380             0         4          5   \n",
              "3     2       109      9   250             0         5          5   \n",
              "4     2        86      9   400            11         7          5   \n",
              "\n",
              "   livingrooms  kitchen  garage  ...  ac  roof  pool  frontyard  basement   \n",
              "0            1        1       1  ...   0     0     0          1         0  \\\n",
              "1            2        1       1  ...   0     0     0          1         0   \n",
              "2            1        1       1  ...   0     1     0          1         0   \n",
              "3            3        0       1  ...   0     0     0          1         0   \n",
              "4            2        1       1  ...   0     1     0          1         0   \n",
              "\n",
              "   duplex  stairs  elevator  fireplace  price  \n",
              "0       1       1         0          0  80000  \n",
              "1       0       1         0          0  60000  \n",
              "2       0       1         0          0  60000  \n",
              "3       0       0         0          0  55000  \n",
              "4       1       1         0          0  70000  \n",
              "\n",
              "[5 rows x 23 columns]"
            ]
          },
          "execution_count": 84,
          "metadata": {},
          "output_type": "execute_result"
        }
      ],
      "source": [
        "df.head()"
      ]
    },
    {
      "cell_type": "code",
      "execution_count": null,
      "metadata": {
        "id": "mUFLcdb8Wj1_"
      },
      "outputs": [],
      "source": [
        "X = df.drop('price',axis=1)\n",
        "y = df.price\n",
        "\n",
        "logged_taget = np.log(y)"
      ]
    },
    {
      "cell_type": "code",
      "execution_count": null,
      "metadata": {
        "id": "76QuwOuTWj1_"
      },
      "outputs": [],
      "source": [
        "from  sklearn.model_selection import train_test_split\n",
        "X_train, X_test, y_train, y_test = train_test_split(X, y, test_size=0.2, random_state=42)"
      ]
    },
    {
      "cell_type": "code",
      "execution_count": null,
      "metadata": {
        "id": "2-15EMr-Wj1_"
      },
      "outputs": [],
      "source": [
        "# from lazypredict.Supervised import LazyRegressor\n",
        "\n",
        "# reg = LazyRegressor(verbose=0,ignore_warnings=False, custom_metric=None )\n",
        "# models,predictions = reg.fit(X_train, X_test, y_train, y_test)"
      ]
    },
    {
      "cell_type": "code",
      "execution_count": null,
      "metadata": {
        "scrolled": true,
        "id": "BkThpfwnWj2A",
        "outputId": "34d8a36a-67f2-47ae-ef39-37b66b61e764"
      },
      "outputs": [
        {
          "ename": "NameError",
          "evalue": "name 'models' is not defined",
          "output_type": "error",
          "traceback": [
            "\u001b[1;31m---------------------------------------------------------------------------\u001b[0m",
            "\u001b[1;31mNameError\u001b[0m                                 Traceback (most recent call last)",
            "\u001b[1;32m~\\AppData\\Local\\Temp\\ipykernel_3944\\3730071656.py\u001b[0m in \u001b[0;36m<module>\u001b[1;34m\u001b[0m\n\u001b[1;32m----> 1\u001b[1;33m \u001b[0mmodels\u001b[0m\u001b[1;33m\u001b[0m\u001b[1;33m\u001b[0m\u001b[0m\n\u001b[0m",
            "\u001b[1;31mNameError\u001b[0m: name 'models' is not defined"
          ]
        }
      ],
      "source": [
        "models"
      ]
    },
    {
      "cell_type": "markdown",
      "metadata": {
        "id": "3X3xgLOMWj2A"
      },
      "source": [
        "# KNN"
      ]
    },
    {
      "cell_type": "code",
      "execution_count": null,
      "metadata": {
        "id": "aIYHVNjnWj2C",
        "outputId": "39e7cefb-3d0e-43bf-a967-af4c9bda3944"
      },
      "outputs": [
        {
          "data": {
            "text/html": [
              "<style>#sk-container-id-5 {color: black;background-color: white;}#sk-container-id-5 pre{padding: 0;}#sk-container-id-5 div.sk-toggleable {background-color: white;}#sk-container-id-5 label.sk-toggleable__label {cursor: pointer;display: block;width: 100%;margin-bottom: 0;padding: 0.3em;box-sizing: border-box;text-align: center;}#sk-container-id-5 label.sk-toggleable__label-arrow:before {content: \"▸\";float: left;margin-right: 0.25em;color: #696969;}#sk-container-id-5 label.sk-toggleable__label-arrow:hover:before {color: black;}#sk-container-id-5 div.sk-estimator:hover label.sk-toggleable__label-arrow:before {color: black;}#sk-container-id-5 div.sk-toggleable__content {max-height: 0;max-width: 0;overflow: hidden;text-align: left;background-color: #f0f8ff;}#sk-container-id-5 div.sk-toggleable__content pre {margin: 0.2em;color: black;border-radius: 0.25em;background-color: #f0f8ff;}#sk-container-id-5 input.sk-toggleable__control:checked~div.sk-toggleable__content {max-height: 200px;max-width: 100%;overflow: auto;}#sk-container-id-5 input.sk-toggleable__control:checked~label.sk-toggleable__label-arrow:before {content: \"▾\";}#sk-container-id-5 div.sk-estimator input.sk-toggleable__control:checked~label.sk-toggleable__label {background-color: #d4ebff;}#sk-container-id-5 div.sk-label input.sk-toggleable__control:checked~label.sk-toggleable__label {background-color: #d4ebff;}#sk-container-id-5 input.sk-hidden--visually {border: 0;clip: rect(1px 1px 1px 1px);clip: rect(1px, 1px, 1px, 1px);height: 1px;margin: -1px;overflow: hidden;padding: 0;position: absolute;width: 1px;}#sk-container-id-5 div.sk-estimator {font-family: monospace;background-color: #f0f8ff;border: 1px dotted black;border-radius: 0.25em;box-sizing: border-box;margin-bottom: 0.5em;}#sk-container-id-5 div.sk-estimator:hover {background-color: #d4ebff;}#sk-container-id-5 div.sk-parallel-item::after {content: \"\";width: 100%;border-bottom: 1px solid gray;flex-grow: 1;}#sk-container-id-5 div.sk-label:hover label.sk-toggleable__label {background-color: #d4ebff;}#sk-container-id-5 div.sk-serial::before {content: \"\";position: absolute;border-left: 1px solid gray;box-sizing: border-box;top: 0;bottom: 0;left: 50%;z-index: 0;}#sk-container-id-5 div.sk-serial {display: flex;flex-direction: column;align-items: center;background-color: white;padding-right: 0.2em;padding-left: 0.2em;position: relative;}#sk-container-id-5 div.sk-item {position: relative;z-index: 1;}#sk-container-id-5 div.sk-parallel {display: flex;align-items: stretch;justify-content: center;background-color: white;position: relative;}#sk-container-id-5 div.sk-item::before, #sk-container-id-5 div.sk-parallel-item::before {content: \"\";position: absolute;border-left: 1px solid gray;box-sizing: border-box;top: 0;bottom: 0;left: 50%;z-index: -1;}#sk-container-id-5 div.sk-parallel-item {display: flex;flex-direction: column;z-index: 1;position: relative;background-color: white;}#sk-container-id-5 div.sk-parallel-item:first-child::after {align-self: flex-end;width: 50%;}#sk-container-id-5 div.sk-parallel-item:last-child::after {align-self: flex-start;width: 50%;}#sk-container-id-5 div.sk-parallel-item:only-child::after {width: 0;}#sk-container-id-5 div.sk-dashed-wrapped {border: 1px dashed gray;margin: 0 0.4em 0.5em 0.4em;box-sizing: border-box;padding-bottom: 0.4em;background-color: white;}#sk-container-id-5 div.sk-label label {font-family: monospace;font-weight: bold;display: inline-block;line-height: 1.2em;}#sk-container-id-5 div.sk-label-container {text-align: center;}#sk-container-id-5 div.sk-container {/* jupyter's `normalize.less` sets `[hidden] { display: none; }` but bootstrap.min.css set `[hidden] { display: none !important; }` so we also need the `!important` here to be able to override the default hidden behavior on the sphinx rendered scikit-learn.org. See: https://github.com/scikit-learn/scikit-learn/issues/21755 */display: inline-block !important;position: relative;}#sk-container-id-5 div.sk-text-repr-fallback {display: none;}</style><div id=\"sk-container-id-5\" class=\"sk-top-container\"><div class=\"sk-text-repr-fallback\"><pre>KNeighborsRegressor()</pre><b>In a Jupyter environment, please rerun this cell to show the HTML representation or trust the notebook. <br />On GitHub, the HTML representation is unable to render, please try loading this page with nbviewer.org.</b></div><div class=\"sk-container\" hidden><div class=\"sk-item\"><div class=\"sk-estimator sk-toggleable\"><input class=\"sk-toggleable__control sk-hidden--visually\" id=\"sk-estimator-id-5\" type=\"checkbox\" checked><label for=\"sk-estimator-id-5\" class=\"sk-toggleable__label sk-toggleable__label-arrow\">KNeighborsRegressor</label><div class=\"sk-toggleable__content\"><pre>KNeighborsRegressor()</pre></div></div></div></div></div>"
            ],
            "text/plain": [
              "KNeighborsRegressor()"
            ]
          },
          "execution_count": 87,
          "metadata": {},
          "output_type": "execute_result"
        }
      ],
      "source": [
        "from sklearn.neighbors import KNeighborsRegressor\n",
        "\n",
        "knn = KNeighborsRegressor()\n",
        "knn.fit(X_train, y_train)"
      ]
    },
    {
      "cell_type": "code",
      "execution_count": null,
      "metadata": {
        "id": "4hqT53fqWj2C",
        "outputId": "8dcc3df6-59bb-4dbe-e1ce-d6b5b395316c"
      },
      "outputs": [
        {
          "name": "stdout",
          "output_type": "stream",
          "text": [
            "mae= 20637.291666666668\n",
            "msr=  3346947484.0389786\n",
            "r2score=  0.11827319108237155\n"
          ]
        }
      ],
      "source": [
        "from sklearn.metrics import mean_absolute_error, mean_squared_error, r2_score\n",
        "\n",
        "mae = mean_absolute_error(y_test, knn.predict(X_test))\n",
        "print('mae= '+ str(mae))\n",
        "\n",
        "msr= mean_squared_error(y_test, knn.predict(X_test))\n",
        "print('msr=  '+ str(msr))\n",
        "\n",
        "r2_score(y_test, knn.predict(X_test))\n",
        "r2score= r2_score(y_test, knn.predict(X_test))\n",
        "print('r2score=  '+ str(r2score))"
      ]
    },
    {
      "cell_type": "code",
      "execution_count": null,
      "metadata": {
        "id": "oV98j863Wj2D",
        "outputId": "c04ad876-a094-4137-d563-a0fa1e6e734d"
      },
      "outputs": [
        {
          "name": "stdout",
          "output_type": "stream",
          "text": [
            "Best parameters: {'algorithm': 'auto', 'n_neighbors': 9, 'weights': 'distance'}\n",
            "MAE: 19090.836702718814\n",
            "MSE: 2571488425.8396025\n",
            "R2 Score: 0.322561738809236\n"
          ]
        }
      ],
      "source": [
        "from sklearn.model_selection import GridSearchCV\n",
        "\n",
        "# Create an instance of the KNeighborsRegressor\n",
        "regressor = KNeighborsRegressor()\n",
        "\n",
        "# Define the hyperparameter grid\n",
        "param_grid = {\n",
        "    'n_neighbors': [3, 5, 7, 9],  # Number of neighbors to consider\n",
        "    'weights': ['uniform', 'distance'],  # Weighting function for predictions\n",
        "    'algorithm': ['auto', 'ball_tree', 'kd_tree', 'brute']  # Algorithm for nearest neighbors search\n",
        "}\n",
        "\n",
        "# Create a GridSearchCV object with the regressor and parameter grid\n",
        "grid_search = GridSearchCV(regressor, param_grid, scoring='neg_mean_absolute_error', cv=10)\n",
        "\n",
        "# Fit the grid search to your training data\n",
        "grid_search.fit(X_train, y_train)\n",
        "\n",
        "# Get the best estimator and best parameters found by GridSearchCV\n",
        "best_regressor = grid_search.best_estimator_\n",
        "best_params = grid_search.best_params_\n",
        "\n",
        "# Use the best estimator to make predictions on new data\n",
        "predictions = best_regressor.predict(X_test)\n",
        "\n",
        "# Evaluate the performance of the best estimator\n",
        "mae = mean_absolute_error(y_test, predictions)\n",
        "mse = mean_squared_error(y_test, predictions)\n",
        "r2 = r2_score(y_test, predictions)\n",
        "\n",
        "print(\"Best parameters:\", best_params)\n",
        "print(\"MAE:\", mae)\n",
        "print(\"MSE:\", mse)\n",
        "print(\"R2 Score:\", r2)"
      ]
    },
    {
      "cell_type": "code",
      "execution_count": null,
      "metadata": {
        "id": "JPVNTQrHWj2E"
      },
      "outputs": [],
      "source": [
        "KNN_Best_para = {'algorithm': 'auto', 'n_neighbors': 9, 'weights': 'distance'}"
      ]
    },
    {
      "cell_type": "code",
      "execution_count": null,
      "metadata": {
        "id": "jvAxqmPaWj2E",
        "outputId": "602be3e7-72b1-4541-da8d-b423b8f4aff6"
      },
      "outputs": [
        {
          "data": {
            "text/html": [
              "<style>#sk-container-id-6 {color: black;background-color: white;}#sk-container-id-6 pre{padding: 0;}#sk-container-id-6 div.sk-toggleable {background-color: white;}#sk-container-id-6 label.sk-toggleable__label {cursor: pointer;display: block;width: 100%;margin-bottom: 0;padding: 0.3em;box-sizing: border-box;text-align: center;}#sk-container-id-6 label.sk-toggleable__label-arrow:before {content: \"▸\";float: left;margin-right: 0.25em;color: #696969;}#sk-container-id-6 label.sk-toggleable__label-arrow:hover:before {color: black;}#sk-container-id-6 div.sk-estimator:hover label.sk-toggleable__label-arrow:before {color: black;}#sk-container-id-6 div.sk-toggleable__content {max-height: 0;max-width: 0;overflow: hidden;text-align: left;background-color: #f0f8ff;}#sk-container-id-6 div.sk-toggleable__content pre {margin: 0.2em;color: black;border-radius: 0.25em;background-color: #f0f8ff;}#sk-container-id-6 input.sk-toggleable__control:checked~div.sk-toggleable__content {max-height: 200px;max-width: 100%;overflow: auto;}#sk-container-id-6 input.sk-toggleable__control:checked~label.sk-toggleable__label-arrow:before {content: \"▾\";}#sk-container-id-6 div.sk-estimator input.sk-toggleable__control:checked~label.sk-toggleable__label {background-color: #d4ebff;}#sk-container-id-6 div.sk-label input.sk-toggleable__control:checked~label.sk-toggleable__label {background-color: #d4ebff;}#sk-container-id-6 input.sk-hidden--visually {border: 0;clip: rect(1px 1px 1px 1px);clip: rect(1px, 1px, 1px, 1px);height: 1px;margin: -1px;overflow: hidden;padding: 0;position: absolute;width: 1px;}#sk-container-id-6 div.sk-estimator {font-family: monospace;background-color: #f0f8ff;border: 1px dotted black;border-radius: 0.25em;box-sizing: border-box;margin-bottom: 0.5em;}#sk-container-id-6 div.sk-estimator:hover {background-color: #d4ebff;}#sk-container-id-6 div.sk-parallel-item::after {content: \"\";width: 100%;border-bottom: 1px solid gray;flex-grow: 1;}#sk-container-id-6 div.sk-label:hover label.sk-toggleable__label {background-color: #d4ebff;}#sk-container-id-6 div.sk-serial::before {content: \"\";position: absolute;border-left: 1px solid gray;box-sizing: border-box;top: 0;bottom: 0;left: 50%;z-index: 0;}#sk-container-id-6 div.sk-serial {display: flex;flex-direction: column;align-items: center;background-color: white;padding-right: 0.2em;padding-left: 0.2em;position: relative;}#sk-container-id-6 div.sk-item {position: relative;z-index: 1;}#sk-container-id-6 div.sk-parallel {display: flex;align-items: stretch;justify-content: center;background-color: white;position: relative;}#sk-container-id-6 div.sk-item::before, #sk-container-id-6 div.sk-parallel-item::before {content: \"\";position: absolute;border-left: 1px solid gray;box-sizing: border-box;top: 0;bottom: 0;left: 50%;z-index: -1;}#sk-container-id-6 div.sk-parallel-item {display: flex;flex-direction: column;z-index: 1;position: relative;background-color: white;}#sk-container-id-6 div.sk-parallel-item:first-child::after {align-self: flex-end;width: 50%;}#sk-container-id-6 div.sk-parallel-item:last-child::after {align-self: flex-start;width: 50%;}#sk-container-id-6 div.sk-parallel-item:only-child::after {width: 0;}#sk-container-id-6 div.sk-dashed-wrapped {border: 1px dashed gray;margin: 0 0.4em 0.5em 0.4em;box-sizing: border-box;padding-bottom: 0.4em;background-color: white;}#sk-container-id-6 div.sk-label label {font-family: monospace;font-weight: bold;display: inline-block;line-height: 1.2em;}#sk-container-id-6 div.sk-label-container {text-align: center;}#sk-container-id-6 div.sk-container {/* jupyter's `normalize.less` sets `[hidden] { display: none; }` but bootstrap.min.css set `[hidden] { display: none !important; }` so we also need the `!important` here to be able to override the default hidden behavior on the sphinx rendered scikit-learn.org. See: https://github.com/scikit-learn/scikit-learn/issues/21755 */display: inline-block !important;position: relative;}#sk-container-id-6 div.sk-text-repr-fallback {display: none;}</style><div id=\"sk-container-id-6\" class=\"sk-top-container\"><div class=\"sk-text-repr-fallback\"><pre>KNeighborsRegressor(n_neighbors=9, weights=&#x27;distance&#x27;)</pre><b>In a Jupyter environment, please rerun this cell to show the HTML representation or trust the notebook. <br />On GitHub, the HTML representation is unable to render, please try loading this page with nbviewer.org.</b></div><div class=\"sk-container\" hidden><div class=\"sk-item\"><div class=\"sk-estimator sk-toggleable\"><input class=\"sk-toggleable__control sk-hidden--visually\" id=\"sk-estimator-id-6\" type=\"checkbox\" checked><label for=\"sk-estimator-id-6\" class=\"sk-toggleable__label sk-toggleable__label-arrow\">KNeighborsRegressor</label><div class=\"sk-toggleable__content\"><pre>KNeighborsRegressor(n_neighbors=9, weights=&#x27;distance&#x27;)</pre></div></div></div></div></div>"
            ],
            "text/plain": [
              "KNeighborsRegressor(n_neighbors=9, weights='distance')"
            ]
          },
          "execution_count": 90,
          "metadata": {},
          "output_type": "execute_result"
        }
      ],
      "source": [
        "from sklearn.neighbors import KNeighborsRegressor\n",
        "\n",
        "KNN_Best = KNeighborsRegressor(**KNN_Best_para)\n",
        "KNN_Best.fit(X_train, y_train)"
      ]
    },
    {
      "cell_type": "code",
      "execution_count": null,
      "metadata": {
        "id": "p3FgkWTLWj2F",
        "outputId": "838eadf7-5322-4003-8461-bb6fa917ec5c"
      },
      "outputs": [
        {
          "name": "stderr",
          "output_type": "stream",
          "text": [
            "[Parallel(n_jobs=-1)]: Using backend LokyBackend with 16 concurrent workers.\n",
            "[Parallel(n_jobs=-1)]: Done   3 out of  22 | elapsed:    4.7s remaining:   30.6s\n",
            "[Parallel(n_jobs=-1)]: Done  15 out of  22 | elapsed:    5.3s remaining:    2.4s\n",
            "[Parallel(n_jobs=-1)]: Done  22 out of  22 | elapsed:    5.5s finished\n",
            "\n",
            "[2023-06-03 21:40:22] Features: 1/22 -- score: -4867550464.625898[Parallel(n_jobs=-1)]: Using backend LokyBackend with 16 concurrent workers.\n",
            "[Parallel(n_jobs=-1)]: Done  12 out of  21 | elapsed:    0.0s remaining:    0.0s\n",
            "[Parallel(n_jobs=-1)]: Done  21 out of  21 | elapsed:    0.0s finished\n",
            "\n",
            "[2023-06-03 21:40:22] Features: 2/22 -- score: -4516510755.3052635[Parallel(n_jobs=-1)]: Using backend LokyBackend with 16 concurrent workers.\n",
            "[Parallel(n_jobs=-1)]: Done  11 out of  20 | elapsed:    0.0s remaining:    0.0s\n",
            "[Parallel(n_jobs=-1)]: Done  20 out of  20 | elapsed:    0.0s finished\n",
            "\n",
            "[2023-06-03 21:40:22] Features: 3/22 -- score: -4207209547.227607[Parallel(n_jobs=-1)]: Using backend LokyBackend with 16 concurrent workers.\n",
            "[Parallel(n_jobs=-1)]: Done   8 out of  19 | elapsed:    0.0s remaining:    0.0s\n",
            "[Parallel(n_jobs=-1)]: Done  19 out of  19 | elapsed:    0.0s finished\n",
            "\n",
            "[2023-06-03 21:40:22] Features: 4/22 -- score: -3833109903.171777[Parallel(n_jobs=-1)]: Using backend LokyBackend with 16 concurrent workers.\n",
            "[Parallel(n_jobs=-1)]: Done   7 out of  18 | elapsed:    0.0s remaining:    0.1s\n",
            "[Parallel(n_jobs=-1)]: Done  18 out of  18 | elapsed:    0.1s finished\n",
            "\n",
            "[2023-06-03 21:40:23] Features: 5/22 -- score: -3785260878.921332[Parallel(n_jobs=-1)]: Using backend LokyBackend with 16 concurrent workers.\n",
            "[Parallel(n_jobs=-1)]: Done   4 out of  17 | elapsed:    0.0s remaining:    0.2s\n",
            "[Parallel(n_jobs=-1)]: Done  13 out of  17 | elapsed:    0.0s remaining:    0.0s\n",
            "[Parallel(n_jobs=-1)]: Done  17 out of  17 | elapsed:    0.1s finished\n",
            "\n",
            "[2023-06-03 21:40:23] Features: 6/22 -- score: -3741945777.657991[Parallel(n_jobs=-1)]: Using backend LokyBackend with 16 concurrent workers.\n",
            "[Parallel(n_jobs=-1)]: Done   3 out of  16 | elapsed:    0.0s remaining:    0.4s\n",
            "[Parallel(n_jobs=-1)]: Done  12 out of  16 | elapsed:    0.1s remaining:    0.0s\n",
            "[Parallel(n_jobs=-1)]: Done  16 out of  16 | elapsed:    0.1s finished\n",
            "\n",
            "[2023-06-03 21:40:23] Features: 7/22 -- score: -3726889731.953679[Parallel(n_jobs=-1)]: Using backend LokyBackend with 16 concurrent workers.\n",
            "[Parallel(n_jobs=-1)]: Done   8 out of  15 | elapsed:    0.1s remaining:    0.0s\n",
            "[Parallel(n_jobs=-1)]: Done  15 out of  15 | elapsed:    0.1s finished\n",
            "\n",
            "[2023-06-03 21:40:23] Features: 8/22 -- score: -3756396844.535348[Parallel(n_jobs=-1)]: Using backend LokyBackend with 16 concurrent workers.\n",
            "[Parallel(n_jobs=-1)]: Done   7 out of  14 | elapsed:    0.0s remaining:    0.0s\n",
            "[Parallel(n_jobs=-1)]: Done  14 out of  14 | elapsed:    0.1s finished\n",
            "\n",
            "[2023-06-03 21:40:23] Features: 9/22 -- score: -3758866109.8515863[Parallel(n_jobs=-1)]: Using backend LokyBackend with 16 concurrent workers.\n",
            "[Parallel(n_jobs=-1)]: Done   3 out of  13 | elapsed:    0.0s remaining:    0.3s\n",
            "[Parallel(n_jobs=-1)]: Done  10 out of  13 | elapsed:    0.0s remaining:    0.0s\n",
            "[Parallel(n_jobs=-1)]: Done  13 out of  13 | elapsed:    0.0s finished\n",
            "\n",
            "[2023-06-03 21:40:23] Features: 10/22 -- score: -3754778417.9207067[Parallel(n_jobs=-1)]: Using backend LokyBackend with 16 concurrent workers.\n",
            "[Parallel(n_jobs=-1)]: Done   2 out of  12 | elapsed:    0.0s remaining:    0.6s\n",
            "[Parallel(n_jobs=-1)]: Done   9 out of  12 | elapsed:    0.0s remaining:    0.0s\n",
            "[Parallel(n_jobs=-1)]: Done  12 out of  12 | elapsed:    0.1s finished\n",
            "\n",
            "[2023-06-03 21:40:24] Features: 11/22 -- score: -3732105390.1501327[Parallel(n_jobs=-1)]: Using backend LokyBackend with 16 concurrent workers.\n",
            "[Parallel(n_jobs=-1)]: Done   4 out of  11 | elapsed:    0.0s remaining:    0.1s\n",
            "[Parallel(n_jobs=-1)]: Done  11 out of  11 | elapsed:    0.1s finished\n",
            "\n",
            "[2023-06-03 21:40:24] Features: 12/22 -- score: -3727994421.6870584[Parallel(n_jobs=-1)]: Using backend LokyBackend with 16 concurrent workers.\n",
            "[Parallel(n_jobs=-1)]: Done   3 out of  10 | elapsed:    0.0s remaining:    0.2s\n",
            "[Parallel(n_jobs=-1)]: Done  10 out of  10 | elapsed:    0.0s finished\n",
            "\n",
            "[2023-06-03 21:40:24] Features: 13/22 -- score: -3730773068.716292[Parallel(n_jobs=-1)]: Using backend LokyBackend with 16 concurrent workers.\n",
            "[Parallel(n_jobs=-1)]: Done   3 out of   9 | elapsed:    0.0s remaining:    0.2s\n",
            "[Parallel(n_jobs=-1)]: Done   9 out of   9 | elapsed:    0.1s finished\n",
            "\n",
            "[2023-06-03 21:40:24] Features: 14/22 -- score: -3708569045.1997957[Parallel(n_jobs=-1)]: Using backend LokyBackend with 16 concurrent workers.\n",
            "[Parallel(n_jobs=-1)]: Done   2 out of   8 | elapsed:    0.0s remaining:    0.3s\n",
            "[Parallel(n_jobs=-1)]: Done   8 out of   8 | elapsed:    0.1s finished\n",
            "\n",
            "[2023-06-03 21:40:24] Features: 15/22 -- score: -3710863367.574868[Parallel(n_jobs=-1)]: Using backend LokyBackend with 16 concurrent workers.\n",
            "[Parallel(n_jobs=-1)]: Done   4 out of   7 | elapsed:    0.3s remaining:    0.2s\n",
            "[Parallel(n_jobs=-1)]: Done   7 out of   7 | elapsed:    0.3s finished\n",
            "\n",
            "[2023-06-03 21:40:25] Features: 16/22 -- score: -3718675017.3741913[Parallel(n_jobs=-1)]: Using backend LokyBackend with 16 concurrent workers.\n",
            "[Parallel(n_jobs=-1)]: Done   3 out of   6 | elapsed:    0.2s remaining:    0.2s\n",
            "[Parallel(n_jobs=-1)]: Done   6 out of   6 | elapsed:    0.3s finished\n",
            "\n",
            "[2023-06-03 21:40:25] Features: 17/22 -- score: -3711353900.774443[Parallel(n_jobs=-1)]: Using backend LokyBackend with 16 concurrent workers.\n",
            "[Parallel(n_jobs=-1)]: Done   5 out of   5 | elapsed:    0.3s finished\n",
            "\n",
            "[2023-06-03 21:40:25] Features: 18/22 -- score: -3728092969.0638213[Parallel(n_jobs=-1)]: Using backend LokyBackend with 16 concurrent workers.\n",
            "[Parallel(n_jobs=-1)]: Done   4 out of   4 | elapsed:    0.2s finished\n",
            "\n",
            "[2023-06-03 21:40:26] Features: 19/22 -- score: -3727960395.5460997[Parallel(n_jobs=-1)]: Using backend LokyBackend with 16 concurrent workers.\n",
            "[Parallel(n_jobs=-1)]: Done   3 out of   3 | elapsed:    0.2s finished\n",
            "\n",
            "[2023-06-03 21:40:26] Features: 20/22 -- score: -3770116474.8583803[Parallel(n_jobs=-1)]: Using backend LokyBackend with 16 concurrent workers.\n",
            "[Parallel(n_jobs=-1)]: Done   2 out of   2 | elapsed:    0.1s finished\n",
            "\n",
            "[2023-06-03 21:40:26] Features: 21/22 -- score: -3895800948.7595015[Parallel(n_jobs=-1)]: Using backend LokyBackend with 16 concurrent workers.\n",
            "[Parallel(n_jobs=-1)]: Done   1 out of   1 | elapsed:    0.1s finished\n",
            "\n",
            "[2023-06-03 21:40:26] Features: 22/22 -- score: -4336439996.533972"
          ]
        },
        {
          "name": "stdout",
          "output_type": "stream",
          "text": [
            "\n",
            "Sequential Forward Selection :\n",
            "(0, 1, 2, 5, 7, 8, 10, 13, 14, 15, 17, 18, 20, 21)\n",
            "CV Score:\n",
            "-3708569045.1997957\n",
            "CPU times: total: 1.02 s\n",
            "Wall time: 10.1 s\n"
          ]
        }
      ],
      "source": [
        "%%time\n",
        "\n",
        "from mlxtend.feature_selection import SequentialFeatureSelector as SFS\n",
        "# Sequential Forward Selection\n",
        "sfs_knn = SFS(KNN_Best,\n",
        "          k_features=(1,22),\n",
        "          forward=True,\n",
        "          floating=False,\n",
        "          scoring='neg_mean_squared_error',\n",
        "          verbose=2,\n",
        "          n_jobs=-1,\n",
        "          cv=10)\n",
        "sfs_knn = sfs_knn.fit(X_train, y_train)\n",
        "\n",
        "print('\\nSequential Forward Selection :')\n",
        "print(sfs_knn.k_feature_idx_)\n",
        "print('CV Score:')\n",
        "print(sfs_knn.k_score_)"
      ]
    },
    {
      "cell_type": "code",
      "execution_count": null,
      "metadata": {
        "id": "65PDN6CpWj2F",
        "outputId": "57797e48-e0f4-4396-f87b-d4c83f0c3a94"
      },
      "outputs": [
        {
          "data": {
            "image/png": "[encoded data removed]",
            "text/plain": [
              "<Figure size 640x480 with 1 Axes>"
            ]
          },
          "metadata": {},
          "output_type": "display_data"
        }
      ],
      "source": [
        "from mlxtend.plotting import plot_sequential_feature_selection as plot_sfs\n",
        "plot_sfs(sfs_knn.get_metric_dict(), kind='std_err');"
      ]
    },
    {
      "cell_type": "code",
      "execution_count": null,
      "metadata": {
        "id": "K8TBxt0rWj2F",
        "outputId": "6e27659f-9b11-497f-c796-708972a32d53"
      },
      "outputs": [
        {
          "name": "stdout",
          "output_type": "stream",
          "text": [
            "Test set R2: 0.46\n",
            "Test set MSE: 2055241617.92\n",
            "Test set MAE: 17195.98\n",
            "Train set R2: 1.00\n"
          ]
        }
      ],
      "source": [
        "#Check accuracy for feature selection here\n",
        "\n",
        "X_train_sfs = sfs_knn.transform(X_train)\n",
        "X_test_sfs = sfs_knn.transform(X_test)\n",
        "\n",
        "# Fit the estimator using the new feature subset\n",
        "# and make a prediction on the test data\n",
        "KNN_Best.fit(X_train_sfs, y_train)\n",
        "y_pred = KNN_Best.predict(X_test_sfs)\n",
        "train_y_pred = KNN_Best.predict(X_train_sfs)\n",
        "\n",
        "#Compute the mean squared error of the prediction\n",
        "r2 = r2_score(y_test, y_pred)\n",
        "print('Test set R2: %.2f' % r2)\n",
        "#Compute the mean squared error of the prediction\n",
        "mse = mean_squared_error(y_test, y_pred)\n",
        "print('Test set MSE: %.2f' % mse)\n",
        "#Compute the mean squared error of the prediction\n",
        "mae = mean_absolute_error(y_test, y_pred)\n",
        "print('Test set MAE: %.2f' % mae)\n",
        "\n",
        "#Compute the mean squared error of the prediction\n",
        "train_mse = r2_score(y_train, train_y_pred)\n",
        "print('Train set R2: %.2f' % train_mse)"
      ]
    },
    {
      "cell_type": "markdown",
      "metadata": {
        "id": "qPP_GHTgWj2G"
      },
      "source": [
        "# LGBM"
      ]
    },
    {
      "cell_type": "code",
      "execution_count": null,
      "metadata": {
        "id": "F2py4NqvWj2H",
        "outputId": "a165e5b5-071e-4d4f-b697-6ea852ed4045"
      },
      "outputs": [
        {
          "data": {
            "text/html": [
              "<style>#sk-container-id-7 {color: black;background-color: white;}#sk-container-id-7 pre{padding: 0;}#sk-container-id-7 div.sk-toggleable {background-color: white;}#sk-container-id-7 label.sk-toggleable__label {cursor: pointer;display: block;width: 100%;margin-bottom: 0;padding: 0.3em;box-sizing: border-box;text-align: center;}#sk-container-id-7 label.sk-toggleable__label-arrow:before {content: \"▸\";float: left;margin-right: 0.25em;color: #696969;}#sk-container-id-7 label.sk-toggleable__label-arrow:hover:before {color: black;}#sk-container-id-7 div.sk-estimator:hover label.sk-toggleable__label-arrow:before {color: black;}#sk-container-id-7 div.sk-toggleable__content {max-height: 0;max-width: 0;overflow: hidden;text-align: left;background-color: #f0f8ff;}#sk-container-id-7 div.sk-toggleable__content pre {margin: 0.2em;color: black;border-radius: 0.25em;background-color: #f0f8ff;}#sk-container-id-7 input.sk-toggleable__control:checked~div.sk-toggleable__content {max-height: 200px;max-width: 100%;overflow: auto;}#sk-container-id-7 input.sk-toggleable__control:checked~label.sk-toggleable__label-arrow:before {content: \"▾\";}#sk-container-id-7 div.sk-estimator input.sk-toggleable__control:checked~label.sk-toggleable__label {background-color: #d4ebff;}#sk-container-id-7 div.sk-label input.sk-toggleable__control:checked~label.sk-toggleable__label {background-color: #d4ebff;}#sk-container-id-7 input.sk-hidden--visually {border: 0;clip: rect(1px 1px 1px 1px);clip: rect(1px, 1px, 1px, 1px);height: 1px;margin: -1px;overflow: hidden;padding: 0;position: absolute;width: 1px;}#sk-container-id-7 div.sk-estimator {font-family: monospace;background-color: #f0f8ff;border: 1px dotted black;border-radius: 0.25em;box-sizing: border-box;margin-bottom: 0.5em;}#sk-container-id-7 div.sk-estimator:hover {background-color: #d4ebff;}#sk-container-id-7 div.sk-parallel-item::after {content: \"\";width: 100%;border-bottom: 1px solid gray;flex-grow: 1;}#sk-container-id-7 div.sk-label:hover label.sk-toggleable__label {background-color: #d4ebff;}#sk-container-id-7 div.sk-serial::before {content: \"\";position: absolute;border-left: 1px solid gray;box-sizing: border-box;top: 0;bottom: 0;left: 50%;z-index: 0;}#sk-container-id-7 div.sk-serial {display: flex;flex-direction: column;align-items: center;background-color: white;padding-right: 0.2em;padding-left: 0.2em;position: relative;}#sk-container-id-7 div.sk-item {position: relative;z-index: 1;}#sk-container-id-7 div.sk-parallel {display: flex;align-items: stretch;justify-content: center;background-color: white;position: relative;}#sk-container-id-7 div.sk-item::before, #sk-container-id-7 div.sk-parallel-item::before {content: \"\";position: absolute;border-left: 1px solid gray;box-sizing: border-box;top: 0;bottom: 0;left: 50%;z-index: -1;}#sk-container-id-7 div.sk-parallel-item {display: flex;flex-direction: column;z-index: 1;position: relative;background-color: white;}#sk-container-id-7 div.sk-parallel-item:first-child::after {align-self: flex-end;width: 50%;}#sk-container-id-7 div.sk-parallel-item:last-child::after {align-self: flex-start;width: 50%;}#sk-container-id-7 div.sk-parallel-item:only-child::after {width: 0;}#sk-container-id-7 div.sk-dashed-wrapped {border: 1px dashed gray;margin: 0 0.4em 0.5em 0.4em;box-sizing: border-box;padding-bottom: 0.4em;background-color: white;}#sk-container-id-7 div.sk-label label {font-family: monospace;font-weight: bold;display: inline-block;line-height: 1.2em;}#sk-container-id-7 div.sk-label-container {text-align: center;}#sk-container-id-7 div.sk-container {/* jupyter's `normalize.less` sets `[hidden] { display: none; }` but bootstrap.min.css set `[hidden] { display: none !important; }` so we also need the `!important` here to be able to override the default hidden behavior on the sphinx rendered scikit-learn.org. See: https://github.com/scikit-learn/scikit-learn/issues/21755 */display: inline-block !important;position: relative;}#sk-container-id-7 div.sk-text-repr-fallback {display: none;}</style><div id=\"sk-container-id-7\" class=\"sk-top-container\"><div class=\"sk-text-repr-fallback\"><pre>LGBMRegressor()</pre><b>In a Jupyter environment, please rerun this cell to show the HTML representation or trust the notebook. <br />On GitHub, the HTML representation is unable to render, please try loading this page with nbviewer.org.</b></div><div class=\"sk-container\" hidden><div class=\"sk-item\"><div class=\"sk-estimator sk-toggleable\"><input class=\"sk-toggleable__control sk-hidden--visually\" id=\"sk-estimator-id-7\" type=\"checkbox\" checked><label for=\"sk-estimator-id-7\" class=\"sk-toggleable__label sk-toggleable__label-arrow\">LGBMRegressor</label><div class=\"sk-toggleable__content\"><pre>LGBMRegressor()</pre></div></div></div></div></div>"
            ],
            "text/plain": [
              "LGBMRegressor()"
            ]
          },
          "execution_count": 94,
          "metadata": {},
          "output_type": "execute_result"
        }
      ],
      "source": [
        "from lightgbm import LGBMRegressor\n",
        "\n",
        "lgbm = LGBMRegressor()\n",
        "lgbm.fit(X_train, y_train)"
      ]
    },
    {
      "cell_type": "code",
      "execution_count": null,
      "metadata": {
        "scrolled": true,
        "id": "d5qr6y--Wj2H",
        "outputId": "4fb5dd8e-d5d7-4942-c818-01863d6e18df"
      },
      "outputs": [
        {
          "name": "stdout",
          "output_type": "stream",
          "text": [
            "mae= 18023.76467463802\n",
            "msr=  2054624958.45296\n",
            "r2score=  0.458725326053504\n"
          ]
        }
      ],
      "source": [
        "from sklearn.metrics import mean_absolute_error, mean_squared_error, r2_score\n",
        "\n",
        "mae = mean_absolute_error(y_test, lgbm.predict(X_test))\n",
        "print('mae= '+ str(mae))\n",
        "\n",
        "msr= mean_squared_error(y_test, lgbm.predict(X_test))\n",
        "print('msr=  '+ str(msr))\n",
        "\n",
        "r2_score(y_test, lgbm.predict(X_test))\n",
        "r2score= r2_score(y_test, lgbm.predict(X_test))\n",
        "print('r2score=  '+ str(r2score))"
      ]
    },
    {
      "cell_type": "code",
      "execution_count": null,
      "metadata": {
        "id": "Adjeg6iNWj2I",
        "outputId": "6e47b5e0-d9f2-4cd3-e3a9-ca9dc240b832"
      },
      "outputs": [
        {
          "name": "stdout",
          "output_type": "stream",
          "text": [
            "Best Hyperparameters: {'learning_rate': 0.05, 'max_depth': 9, 'n_estimators': 200, 'num_leaves': 63}\n",
            "MAE: 18299.238285113403\n",
            "MSE: 2013424469.5059247\n",
            "R2 Score: 0.4695792685842295\n"
          ]
        }
      ],
      "source": [
        "from sklearn.model_selection import train_test_split, GridSearchCV\n",
        "from lightgbm import LGBMRegressor\n",
        "from sklearn.metrics import mean_absolute_error, mean_squared_error, r2_score\n",
        "\n",
        "# Define the parameter grid to search over\n",
        "# param_grid = {\n",
        "#     'n_estimators': [100, 200, 300],\n",
        "#     'learning_rate': [0.1, 0.05, 0.01],\n",
        "#     'max_depth': [3, 5, 7],\n",
        "#     'num_leaves': [31, 63, 127]\n",
        "# }\n",
        "\n",
        "param_grid = {\n",
        "    'n_estimators': [200, 300, 400],\n",
        "    'learning_rate': [0.1, 0.05, 0.01, 0.001],\n",
        "    'max_depth': [5, 7, 9],\n",
        "    'num_leaves': [31, 63, 127, 255]\n",
        "}\n",
        "\n",
        "# Create the LGBMRegressor model\n",
        "model = LGBMRegressor()\n",
        "\n",
        "# Create the GridSearchCV object\n",
        "grid_search = GridSearchCV(estimator=model, param_grid=param_grid,\n",
        "                           scoring='neg_mean_absolute_error', cv=10, n_jobs=-1)\n",
        "\n",
        "# Fit the model using GridSearchCV\n",
        "grid_search.fit(X_train, y_train)\n",
        "\n",
        "# Get the best hyperparameters found\n",
        "best_params = grid_search.best_params_\n",
        "print('Best Hyperparameters:', best_params)\n",
        "\n",
        "# Create the final LGBMRegressor model with the best hyperparameters\n",
        "best_model = LGBMRegressor(**best_params)\n",
        "best_model.fit(X_train, y_train)\n",
        "\n",
        "# Make predictions on the test set using the final model\n",
        "y_pred = best_model.predict(X_test)\n",
        "\n",
        "# Calculate evaluation metrics using the final model\n",
        "mae = mean_absolute_error(y_test, y_pred)\n",
        "mse = mean_squared_error(y_test, y_pred)\n",
        "r2 = r2_score(y_test, y_pred)\n",
        "\n",
        "# Print the evaluation metrics\n",
        "print('MAE:', mae)\n",
        "print('MSE:', mse)\n",
        "print('R2 Score:', r2)"
      ]
    },
    {
      "cell_type": "code",
      "execution_count": null,
      "metadata": {
        "id": "y8rUWIPeWj2I"
      },
      "outputs": [],
      "source": [
        "Best_Hyperparameters= {'learning_rate': 0.05, 'max_depth': 9, 'n_estimators': 200, 'num_leaves': 63}"
      ]
    },
    {
      "cell_type": "code",
      "execution_count": null,
      "metadata": {
        "id": "nabylMv3Wj2J",
        "outputId": "fff87ef5-5522-4ae9-f50d-f9ba96926b75"
      },
      "outputs": [
        {
          "data": {
            "text/html": [
              "<style>#sk-container-id-8 {color: black;background-color: white;}#sk-container-id-8 pre{padding: 0;}#sk-container-id-8 div.sk-toggleable {background-color: white;}#sk-container-id-8 label.sk-toggleable__label {cursor: pointer;display: block;width: 100%;margin-bottom: 0;padding: 0.3em;box-sizing: border-box;text-align: center;}#sk-container-id-8 label.sk-toggleable__label-arrow:before {content: \"▸\";float: left;margin-right: 0.25em;color: #696969;}#sk-container-id-8 label.sk-toggleable__label-arrow:hover:before {color: black;}#sk-container-id-8 div.sk-estimator:hover label.sk-toggleable__label-arrow:before {color: black;}#sk-container-id-8 div.sk-toggleable__content {max-height: 0;max-width: 0;overflow: hidden;text-align: left;background-color: #f0f8ff;}#sk-container-id-8 div.sk-toggleable__content pre {margin: 0.2em;color: black;border-radius: 0.25em;background-color: #f0f8ff;}#sk-container-id-8 input.sk-toggleable__control:checked~div.sk-toggleable__content {max-height: 200px;max-width: 100%;overflow: auto;}#sk-container-id-8 input.sk-toggleable__control:checked~label.sk-toggleable__label-arrow:before {content: \"▾\";}#sk-container-id-8 div.sk-estimator input.sk-toggleable__control:checked~label.sk-toggleable__label {background-color: #d4ebff;}#sk-container-id-8 div.sk-label input.sk-toggleable__control:checked~label.sk-toggleable__label {background-color: #d4ebff;}#sk-container-id-8 input.sk-hidden--visually {border: 0;clip: rect(1px 1px 1px 1px);clip: rect(1px, 1px, 1px, 1px);height: 1px;margin: -1px;overflow: hidden;padding: 0;position: absolute;width: 1px;}#sk-container-id-8 div.sk-estimator {font-family: monospace;background-color: #f0f8ff;border: 1px dotted black;border-radius: 0.25em;box-sizing: border-box;margin-bottom: 0.5em;}#sk-container-id-8 div.sk-estimator:hover {background-color: #d4ebff;}#sk-container-id-8 div.sk-parallel-item::after {content: \"\";width: 100%;border-bottom: 1px solid gray;flex-grow: 1;}#sk-container-id-8 div.sk-label:hover label.sk-toggleable__label {background-color: #d4ebff;}#sk-container-id-8 div.sk-serial::before {content: \"\";position: absolute;border-left: 1px solid gray;box-sizing: border-box;top: 0;bottom: 0;left: 50%;z-index: 0;}#sk-container-id-8 div.sk-serial {display: flex;flex-direction: column;align-items: center;background-color: white;padding-right: 0.2em;padding-left: 0.2em;position: relative;}#sk-container-id-8 div.sk-item {position: relative;z-index: 1;}#sk-container-id-8 div.sk-parallel {display: flex;align-items: stretch;justify-content: center;background-color: white;position: relative;}#sk-container-id-8 div.sk-item::before, #sk-container-id-8 div.sk-parallel-item::before {content: \"\";position: absolute;border-left: 1px solid gray;box-sizing: border-box;top: 0;bottom: 0;left: 50%;z-index: -1;}#sk-container-id-8 div.sk-parallel-item {display: flex;flex-direction: column;z-index: 1;position: relative;background-color: white;}#sk-container-id-8 div.sk-parallel-item:first-child::after {align-self: flex-end;width: 50%;}#sk-container-id-8 div.sk-parallel-item:last-child::after {align-self: flex-start;width: 50%;}#sk-container-id-8 div.sk-parallel-item:only-child::after {width: 0;}#sk-container-id-8 div.sk-dashed-wrapped {border: 1px dashed gray;margin: 0 0.4em 0.5em 0.4em;box-sizing: border-box;padding-bottom: 0.4em;background-color: white;}#sk-container-id-8 div.sk-label label {font-family: monospace;font-weight: bold;display: inline-block;line-height: 1.2em;}#sk-container-id-8 div.sk-label-container {text-align: center;}#sk-container-id-8 div.sk-container {/* jupyter's `normalize.less` sets `[hidden] { display: none; }` but bootstrap.min.css set `[hidden] { display: none !important; }` so we also need the `!important` here to be able to override the default hidden behavior on the sphinx rendered scikit-learn.org. See: https://github.com/scikit-learn/scikit-learn/issues/21755 */display: inline-block !important;position: relative;}#sk-container-id-8 div.sk-text-repr-fallback {display: none;}</style><div id=\"sk-container-id-8\" class=\"sk-top-container\"><div class=\"sk-text-repr-fallback\"><pre>LGBMRegressor(learning_rate=0.05, max_depth=9, n_estimators=200, num_leaves=63)</pre><b>In a Jupyter environment, please rerun this cell to show the HTML representation or trust the notebook. <br />On GitHub, the HTML representation is unable to render, please try loading this page with nbviewer.org.</b></div><div class=\"sk-container\" hidden><div class=\"sk-item\"><div class=\"sk-estimator sk-toggleable\"><input class=\"sk-toggleable__control sk-hidden--visually\" id=\"sk-estimator-id-8\" type=\"checkbox\" checked><label for=\"sk-estimator-id-8\" class=\"sk-toggleable__label sk-toggleable__label-arrow\">LGBMRegressor</label><div class=\"sk-toggleable__content\"><pre>LGBMRegressor(learning_rate=0.05, max_depth=9, n_estimators=200, num_leaves=63)</pre></div></div></div></div></div>"
            ],
            "text/plain": [
              "LGBMRegressor(learning_rate=0.05, max_depth=9, n_estimators=200, num_leaves=63)"
            ]
          },
          "execution_count": 97,
          "metadata": {},
          "output_type": "execute_result"
        }
      ],
      "source": [
        "from lightgbm import LGBMRegressor\n",
        "\n",
        "best_lgbm = LGBMRegressor(**Best_Hyperparameters)\n",
        "best_lgbm.fit(X_train, y_train)"
      ]
    },
    {
      "cell_type": "code",
      "execution_count": null,
      "metadata": {
        "id": "gimgaJIrWj2J",
        "outputId": "c388a505-4df0-4dbf-c760-796514721482"
      },
      "outputs": [
        {
          "name": "stderr",
          "output_type": "stream",
          "text": [
            "[Parallel(n_jobs=-1)]: Using backend LokyBackend with 16 concurrent workers.\n",
            "[Parallel(n_jobs=-1)]: Done   3 out of  22 | elapsed:    0.8s remaining:    5.7s\n",
            "[Parallel(n_jobs=-1)]: Done  15 out of  22 | elapsed:    1.1s remaining:    0.5s\n",
            "[Parallel(n_jobs=-1)]: Done  22 out of  22 | elapsed:    1.4s finished\n",
            "\n",
            "[2023-06-03 21:43:54] Features: 1/22 -- score: -4227506933.9115767[Parallel(n_jobs=-1)]: Using backend LokyBackend with 16 concurrent workers.\n",
            "[Parallel(n_jobs=-1)]: Done  12 out of  21 | elapsed:    1.7s remaining:    1.3s\n",
            "[Parallel(n_jobs=-1)]: Done  21 out of  21 | elapsed:    2.3s finished\n",
            "\n",
            "[2023-06-03 21:43:57] Features: 2/22 -- score: -3724615555.676197[Parallel(n_jobs=-1)]: Using backend LokyBackend with 16 concurrent workers.\n",
            "[Parallel(n_jobs=-1)]: Done  11 out of  20 | elapsed:    1.5s remaining:    1.2s\n",
            "[Parallel(n_jobs=-1)]: Done  20 out of  20 | elapsed:    2.2s finished\n",
            "\n",
            "[2023-06-03 21:43:59] Features: 3/22 -- score: -3478566444.966033[Parallel(n_jobs=-1)]: Using backend LokyBackend with 16 concurrent workers.\n",
            "[Parallel(n_jobs=-1)]: Done   8 out of  19 | elapsed:    1.4s remaining:    2.0s\n",
            "[Parallel(n_jobs=-1)]: Done  19 out of  19 | elapsed:    2.2s finished\n",
            "\n",
            "[2023-06-03 21:44:01] Features: 4/22 -- score: -3384118337.767499[Parallel(n_jobs=-1)]: Using backend LokyBackend with 16 concurrent workers.\n",
            "[Parallel(n_jobs=-1)]: Done   7 out of  18 | elapsed:    1.6s remaining:    2.5s\n",
            "[Parallel(n_jobs=-1)]: Done  18 out of  18 | elapsed:    2.3s finished\n",
            "\n",
            "[2023-06-03 21:44:04] Features: 5/22 -- score: -3353204407.3917456[Parallel(n_jobs=-1)]: Using backend LokyBackend with 16 concurrent workers.\n",
            "[Parallel(n_jobs=-1)]: Done   4 out of  17 | elapsed:    1.3s remaining:    4.6s\n",
            "[Parallel(n_jobs=-1)]: Done  13 out of  17 | elapsed:    1.7s remaining:    0.4s\n",
            "[Parallel(n_jobs=-1)]: Done  17 out of  17 | elapsed:    2.2s finished\n",
            "\n",
            "[2023-06-03 21:44:06] Features: 6/22 -- score: -3353906238.37931[Parallel(n_jobs=-1)]: Using backend LokyBackend with 16 concurrent workers.\n",
            "[Parallel(n_jobs=-1)]: Done   3 out of  16 | elapsed:    1.4s remaining:    6.6s\n",
            "[Parallel(n_jobs=-1)]: Done  12 out of  16 | elapsed:    1.7s remaining:    0.5s\n",
            "[Parallel(n_jobs=-1)]: Done  16 out of  16 | elapsed:    1.8s finished\n",
            "\n",
            "[2023-06-03 21:44:08] Features: 7/22 -- score: -3316458817.0371823[Parallel(n_jobs=-1)]: Using backend LokyBackend with 16 concurrent workers.\n",
            "[Parallel(n_jobs=-1)]: Done   8 out of  15 | elapsed:    1.7s remaining:    1.5s\n",
            "[Parallel(n_jobs=-1)]: Done  15 out of  15 | elapsed:    2.0s finished\n",
            "\n",
            "[2023-06-03 21:44:10] Features: 8/22 -- score: -3301623777.216604[Parallel(n_jobs=-1)]: Using backend LokyBackend with 16 concurrent workers.\n",
            "[Parallel(n_jobs=-1)]: Done   7 out of  14 | elapsed:    1.7s remaining:    1.7s\n",
            "[Parallel(n_jobs=-1)]: Done  14 out of  14 | elapsed:    1.9s finished\n",
            "\n",
            "[2023-06-03 21:44:12] Features: 9/22 -- score: -3299332598.616245[Parallel(n_jobs=-1)]: Using backend LokyBackend with 16 concurrent workers.\n",
            "[Parallel(n_jobs=-1)]: Done   3 out of  13 | elapsed:    1.5s remaining:    5.3s\n",
            "[Parallel(n_jobs=-1)]: Done  10 out of  13 | elapsed:    1.7s remaining:    0.4s\n",
            "[Parallel(n_jobs=-1)]: Done  13 out of  13 | elapsed:    1.7s finished\n",
            "\n",
            "[2023-06-03 21:44:14] Features: 10/22 -- score: -3284778261.28266[Parallel(n_jobs=-1)]: Using backend LokyBackend with 16 concurrent workers.\n",
            "[Parallel(n_jobs=-1)]: Done   2 out of  12 | elapsed:    1.7s remaining:    8.7s\n",
            "[Parallel(n_jobs=-1)]: Done   9 out of  12 | elapsed:    1.7s remaining:    0.5s\n",
            "[Parallel(n_jobs=-1)]: Done  12 out of  12 | elapsed:    1.8s finished\n",
            "\n",
            "[2023-06-03 21:44:16] Features: 11/22 -- score: -3274901025.063777[Parallel(n_jobs=-1)]: Using backend LokyBackend with 16 concurrent workers.\n",
            "[Parallel(n_jobs=-1)]: Done   4 out of  11 | elapsed:    1.6s remaining:    2.9s\n",
            "[Parallel(n_jobs=-1)]: Done  11 out of  11 | elapsed:    1.7s finished\n",
            "\n",
            "[2023-06-03 21:44:18] Features: 12/22 -- score: -3259864213.0403123[Parallel(n_jobs=-1)]: Using backend LokyBackend with 16 concurrent workers.\n",
            "[Parallel(n_jobs=-1)]: Done   3 out of  10 | elapsed:    1.4s remaining:    3.3s\n",
            "[Parallel(n_jobs=-1)]: Done  10 out of  10 | elapsed:    1.5s finished\n",
            "\n",
            "[2023-06-03 21:44:19] Features: 13/22 -- score: -3236518799.58463[Parallel(n_jobs=-1)]: Using backend LokyBackend with 16 concurrent workers.\n",
            "[Parallel(n_jobs=-1)]: Done   3 out of   9 | elapsed:    1.3s remaining:    2.7s\n",
            "[Parallel(n_jobs=-1)]: Done   9 out of   9 | elapsed:    1.4s finished\n",
            "\n",
            "[2023-06-03 21:44:21] Features: 14/22 -- score: -3223739297.7369933[Parallel(n_jobs=-1)]: Using backend LokyBackend with 16 concurrent workers.\n",
            "[Parallel(n_jobs=-1)]: Done   2 out of   8 | elapsed:    1.2s remaining:    3.9s\n",
            "[Parallel(n_jobs=-1)]: Done   8 out of   8 | elapsed:    1.4s finished\n",
            "\n",
            "[2023-06-03 21:44:22] Features: 15/22 -- score: -3228740105.629465[Parallel(n_jobs=-1)]: Using backend LokyBackend with 16 concurrent workers.\n",
            "[Parallel(n_jobs=-1)]: Done   4 out of   7 | elapsed:    1.4s remaining:    1.0s\n",
            "[Parallel(n_jobs=-1)]: Done   7 out of   7 | elapsed:    1.4s finished\n",
            "\n",
            "[2023-06-03 21:44:24] Features: 16/22 -- score: -3227479178.063651[Parallel(n_jobs=-1)]: Using backend LokyBackend with 16 concurrent workers.\n",
            "[Parallel(n_jobs=-1)]: Done   3 out of   6 | elapsed:    1.3s remaining:    1.3s\n",
            "[Parallel(n_jobs=-1)]: Done   6 out of   6 | elapsed:    1.5s finished\n",
            "\n",
            "[2023-06-03 21:44:25] Features: 17/22 -- score: -3247355586.1971455[Parallel(n_jobs=-1)]: Using backend LokyBackend with 16 concurrent workers.\n",
            "[Parallel(n_jobs=-1)]: Done   5 out of   5 | elapsed:    1.4s finished\n",
            "\n",
            "[2023-06-03 21:44:27] Features: 18/22 -- score: -3281190531.1464252[Parallel(n_jobs=-1)]: Using backend LokyBackend with 16 concurrent workers.\n",
            "[Parallel(n_jobs=-1)]: Done   4 out of   4 | elapsed:    1.4s finished\n",
            "\n",
            "[2023-06-03 21:44:28] Features: 19/22 -- score: -3295484219.765337[Parallel(n_jobs=-1)]: Using backend LokyBackend with 16 concurrent workers.\n",
            "[Parallel(n_jobs=-1)]: Done   3 out of   3 | elapsed:    1.2s finished\n",
            "\n",
            "[2023-06-03 21:44:30] Features: 20/22 -- score: -3308968213.83826[Parallel(n_jobs=-1)]: Using backend LokyBackend with 16 concurrent workers.\n",
            "[Parallel(n_jobs=-1)]: Done   2 out of   2 | elapsed:    1.0s finished\n",
            "\n",
            "[2023-06-03 21:44:31] Features: 21/22 -- score: -3347037593.02101[Parallel(n_jobs=-1)]: Using backend LokyBackend with 16 concurrent workers.\n"
          ]
        },
        {
          "name": "stdout",
          "output_type": "stream",
          "text": [
            "\n",
            "Sequential Forward Selection :\n",
            "(0, 1, 3, 4, 5, 7, 8, 10, 11, 13, 14, 16, 18, 20)\n",
            "CV Score:\n",
            "-3223739297.7369933\n",
            "CPU times: total: 40.2 s\n",
            "Wall time: 39.2 s\n"
          ]
        },
        {
          "name": "stderr",
          "output_type": "stream",
          "text": [
            "[Parallel(n_jobs=-1)]: Done   1 out of   1 | elapsed:    1.1s finished\n",
            "\n",
            "[2023-06-03 21:44:32] Features: 22/22 -- score: -3421927803.215592"
          ]
        }
      ],
      "source": [
        "%%time\n",
        "\n",
        "from mlxtend.feature_selection import SequentialFeatureSelector as SFS\n",
        "# Sequential Forward Selection\n",
        "sfs_lgbm = SFS(best_lgbm,\n",
        "          k_features=(1,22),\n",
        "          forward=True,\n",
        "          floating=False,\n",
        "          scoring='neg_mean_squared_error',\n",
        "          verbose=2,\n",
        "          n_jobs=-1,\n",
        "          cv=10)\n",
        "sfs_lgbm = sfs_lgbm.fit(X_train, y_train)\n",
        "\n",
        "print('\\nSequential Forward Selection :')\n",
        "print(sfs_lgbm.k_feature_idx_)\n",
        "print('CV Score:')\n",
        "print(sfs_lgbm.k_score_)"
      ]
    },
    {
      "cell_type": "code",
      "execution_count": null,
      "metadata": {
        "id": "rgaGv0mZWj2K",
        "outputId": "03e24de2-c4fd-4307-ec56-cf781c08d7aa"
      },
      "outputs": [
        {
          "name": "stdout",
          "output_type": "stream",
          "text": [
            "Test set R2: 0.45\n",
            "Test set MSE: 2080534798.11\n",
            "Test set MAE: 18919.30\n",
            "Train set R2: 0.63\n"
          ]
        }
      ],
      "source": [
        "#Check accuracy for feature selection here\n",
        "\n",
        "X_train_sfs = sfs_lgbm.transform(X_train)\n",
        "X_test_sfs = sfs_lgbm.transform(X_test)\n",
        "\n",
        "# Fit the estimator using the new feature subset\n",
        "# and make a prediction on the test data\n",
        "best_lgbm.fit(X_train_sfs, y_train)\n",
        "y_pred = best_lgbm.predict(X_test_sfs)\n",
        "train_y_pred = best_lgbm.predict(X_train_sfs)\n",
        "\n",
        "#Compute the mean squared error of the prediction\n",
        "r2 = r2_score(y_test, y_pred)\n",
        "print('Test set R2: %.2f' % r2)\n",
        "#Compute the mean squared error of the prediction\n",
        "mse = mean_squared_error(y_test, y_pred)\n",
        "print('Test set MSE: %.2f' % mse)\n",
        "#Compute the mean squared error of the prediction\n",
        "mae = mean_absolute_error(y_test, y_pred)\n",
        "print('Test set MAE: %.2f' % mae)\n",
        "\n",
        "#Compute the mean squared error of the prediction\n",
        "train_mse = r2_score(y_train, train_y_pred)\n",
        "print('Train set R2: %.2f' % train_mse)"
      ]
    },
    {
      "cell_type": "markdown",
      "metadata": {
        "id": "IyZLh75DWj2L"
      },
      "source": [
        "# HistGradientBoostingRegressor"
      ]
    },
    {
      "cell_type": "code",
      "execution_count": null,
      "metadata": {
        "id": "iQcdEMSlWj2f",
        "outputId": "dc719ed3-ec49-4b39-fdf0-4990648d7450"
      },
      "outputs": [
        {
          "data": {
            "text/html": [
              "<style>#sk-container-id-9 {color: black;background-color: white;}#sk-container-id-9 pre{padding: 0;}#sk-container-id-9 div.sk-toggleable {background-color: white;}#sk-container-id-9 label.sk-toggleable__label {cursor: pointer;display: block;width: 100%;margin-bottom: 0;padding: 0.3em;box-sizing: border-box;text-align: center;}#sk-container-id-9 label.sk-toggleable__label-arrow:before {content: \"▸\";float: left;margin-right: 0.25em;color: #696969;}#sk-container-id-9 label.sk-toggleable__label-arrow:hover:before {color: black;}#sk-container-id-9 div.sk-estimator:hover label.sk-toggleable__label-arrow:before {color: black;}#sk-container-id-9 div.sk-toggleable__content {max-height: 0;max-width: 0;overflow: hidden;text-align: left;background-color: #f0f8ff;}#sk-container-id-9 div.sk-toggleable__content pre {margin: 0.2em;color: black;border-radius: 0.25em;background-color: #f0f8ff;}#sk-container-id-9 input.sk-toggleable__control:checked~div.sk-toggleable__content {max-height: 200px;max-width: 100%;overflow: auto;}#sk-container-id-9 input.sk-toggleable__control:checked~label.sk-toggleable__label-arrow:before {content: \"▾\";}#sk-container-id-9 div.sk-estimator input.sk-toggleable__control:checked~label.sk-toggleable__label {background-color: #d4ebff;}#sk-container-id-9 div.sk-label input.sk-toggleable__control:checked~label.sk-toggleable__label {background-color: #d4ebff;}#sk-container-id-9 input.sk-hidden--visually {border: 0;clip: rect(1px 1px 1px 1px);clip: rect(1px, 1px, 1px, 1px);height: 1px;margin: -1px;overflow: hidden;padding: 0;position: absolute;width: 1px;}#sk-container-id-9 div.sk-estimator {font-family: monospace;background-color: #f0f8ff;border: 1px dotted black;border-radius: 0.25em;box-sizing: border-box;margin-bottom: 0.5em;}#sk-container-id-9 div.sk-estimator:hover {background-color: #d4ebff;}#sk-container-id-9 div.sk-parallel-item::after {content: \"\";width: 100%;border-bottom: 1px solid gray;flex-grow: 1;}#sk-container-id-9 div.sk-label:hover label.sk-toggleable__label {background-color: #d4ebff;}#sk-container-id-9 div.sk-serial::before {content: \"\";position: absolute;border-left: 1px solid gray;box-sizing: border-box;top: 0;bottom: 0;left: 50%;z-index: 0;}#sk-container-id-9 div.sk-serial {display: flex;flex-direction: column;align-items: center;background-color: white;padding-right: 0.2em;padding-left: 0.2em;position: relative;}#sk-container-id-9 div.sk-item {position: relative;z-index: 1;}#sk-container-id-9 div.sk-parallel {display: flex;align-items: stretch;justify-content: center;background-color: white;position: relative;}#sk-container-id-9 div.sk-item::before, #sk-container-id-9 div.sk-parallel-item::before {content: \"\";position: absolute;border-left: 1px solid gray;box-sizing: border-box;top: 0;bottom: 0;left: 50%;z-index: -1;}#sk-container-id-9 div.sk-parallel-item {display: flex;flex-direction: column;z-index: 1;position: relative;background-color: white;}#sk-container-id-9 div.sk-parallel-item:first-child::after {align-self: flex-end;width: 50%;}#sk-container-id-9 div.sk-parallel-item:last-child::after {align-self: flex-start;width: 50%;}#sk-container-id-9 div.sk-parallel-item:only-child::after {width: 0;}#sk-container-id-9 div.sk-dashed-wrapped {border: 1px dashed gray;margin: 0 0.4em 0.5em 0.4em;box-sizing: border-box;padding-bottom: 0.4em;background-color: white;}#sk-container-id-9 div.sk-label label {font-family: monospace;font-weight: bold;display: inline-block;line-height: 1.2em;}#sk-container-id-9 div.sk-label-container {text-align: center;}#sk-container-id-9 div.sk-container {/* jupyter's `normalize.less` sets `[hidden] { display: none; }` but bootstrap.min.css set `[hidden] { display: none !important; }` so we also need the `!important` here to be able to override the default hidden behavior on the sphinx rendered scikit-learn.org. See: https://github.com/scikit-learn/scikit-learn/issues/21755 */display: inline-block !important;position: relative;}#sk-container-id-9 div.sk-text-repr-fallback {display: none;}</style><div id=\"sk-container-id-9\" class=\"sk-top-container\"><div class=\"sk-text-repr-fallback\"><pre>HistGradientBoostingRegressor()</pre><b>In a Jupyter environment, please rerun this cell to show the HTML representation or trust the notebook. <br />On GitHub, the HTML representation is unable to render, please try loading this page with nbviewer.org.</b></div><div class=\"sk-container\" hidden><div class=\"sk-item\"><div class=\"sk-estimator sk-toggleable\"><input class=\"sk-toggleable__control sk-hidden--visually\" id=\"sk-estimator-id-9\" type=\"checkbox\" checked><label for=\"sk-estimator-id-9\" class=\"sk-toggleable__label sk-toggleable__label-arrow\">HistGradientBoostingRegressor</label><div class=\"sk-toggleable__content\"><pre>HistGradientBoostingRegressor()</pre></div></div></div></div></div>"
            ],
            "text/plain": [
              "HistGradientBoostingRegressor()"
            ]
          },
          "execution_count": 100,
          "metadata": {},
          "output_type": "execute_result"
        }
      ],
      "source": [
        "from sklearn.ensemble import HistGradientBoostingRegressor\n",
        "\n",
        "hg = HistGradientBoostingRegressor()\n",
        "hg.fit(X_train, y_train)"
      ]
    },
    {
      "cell_type": "code",
      "execution_count": null,
      "metadata": {
        "id": "pLWXBNdyWj2f",
        "outputId": "092d002a-8b38-49c5-e000-90e5ea37f8d9"
      },
      "outputs": [
        {
          "name": "stdout",
          "output_type": "stream",
          "text": [
            "mae= 18252.82795905782\n",
            "msr=  2073261016.1793659\n",
            "r2score=  0.45381580423152457\n"
          ]
        }
      ],
      "source": [
        "from sklearn.metrics import mean_absolute_error, mean_squared_error, r2_score\n",
        "\n",
        "mae = mean_absolute_error(y_test, hg.predict(X_test))\n",
        "print('mae= '+ str(mae))\n",
        "\n",
        "msr= mean_squared_error(y_test, hg.predict(X_test))\n",
        "print('msr=  '+ str(msr))\n",
        "\n",
        "r2_score(y_test, hg.predict(X_test))\n",
        "r2score= r2_score(y_test, hg.predict(X_test))\n",
        "print('r2score=  '+ str(r2score))"
      ]
    },
    {
      "cell_type": "code",
      "execution_count": null,
      "metadata": {
        "id": "th5YEUUbWj2g",
        "outputId": "fc7b20c1-83b1-4386-cdf1-de1f13c6df02"
      },
      "outputs": [
        {
          "name": "stdout",
          "output_type": "stream",
          "text": [
            "Fitting 10 folds for each of 27 candidates, totalling 270 fits\n",
            "Best Hyperparameters: {'learning_rate': 0.05, 'max_depth': None, 'max_iter': 200}\n",
            "MAE: 17957.42462185003\n",
            "MSE: 2054882022.6834881\n",
            "R2 Score: 0.45865760451776094\n"
          ]
        }
      ],
      "source": [
        "from sklearn.model_selection import train_test_split, GridSearchCV\n",
        "from sklearn.ensemble import HistGradientBoostingRegressor\n",
        "from sklearn.metrics import mean_absolute_error, mean_squared_error, r2_score\n",
        "\n",
        "# Define the parameter grid to search over\n",
        "param_grid = {\n",
        "    'learning_rate': [0.1, 0.05, 0.01],\n",
        "    'max_iter': [100, 200, 300],\n",
        "    'max_depth': [None, 3, 5]\n",
        "}\n",
        "\n",
        "# Create the HistGradientBoostingRegressor model\n",
        "model = HistGradientBoostingRegressor()\n",
        "\n",
        "# Create the GridSearchCV object\n",
        "grid_search = GridSearchCV(estimator=model, param_grid=param_grid,\n",
        "                           scoring='neg_mean_absolute_error', cv=10, n_jobs=-1, verbose=1)\n",
        "\n",
        "# Fit the model using GridSearchCV\n",
        "grid_search.fit(X_train, y_train)\n",
        "\n",
        "# Get the best hyperparameters found\n",
        "best_params = grid_search.best_params_\n",
        "print('Best Hyperparameters:', best_params)\n",
        "\n",
        "# Create the final HistGradientBoostingRegressor model with the best hyperparameters\n",
        "best_model = HistGradientBoostingRegressor(**best_params)\n",
        "best_model.fit(X_train, y_train)\n",
        "\n",
        "# Make predictions on the test set using the final model\n",
        "y_pred = best_model.predict(X_test)\n",
        "\n",
        "# Calculate evaluation metrics using the final model\n",
        "mae = mean_absolute_error(y_test, y_pred)\n",
        "mse = mean_squared_error(y_test, y_pred)\n",
        "r2 = r2_score(y_test, y_pred)\n",
        "\n",
        "# Print the evaluation metrics\n",
        "print('MAE:', mae)\n",
        "print('MSE:', mse)\n",
        "print('R2 Score:', r2)"
      ]
    },
    {
      "cell_type": "code",
      "execution_count": null,
      "metadata": {
        "id": "lR7eMhv_Wj2g"
      },
      "outputs": [],
      "source": [
        "Best_Hyperparameters= {'learning_rate': 0.05, 'max_depth': None, 'max_iter': 200}"
      ]
    },
    {
      "cell_type": "code",
      "execution_count": null,
      "metadata": {
        "id": "-RaA6BHxWj2h",
        "outputId": "d2efe7a8-60f1-4581-dfd8-14f79595f067"
      },
      "outputs": [
        {
          "data": {
            "text/html": [
              "<style>#sk-container-id-10 {color: black;background-color: white;}#sk-container-id-10 pre{padding: 0;}#sk-container-id-10 div.sk-toggleable {background-color: white;}#sk-container-id-10 label.sk-toggleable__label {cursor: pointer;display: block;width: 100%;margin-bottom: 0;padding: 0.3em;box-sizing: border-box;text-align: center;}#sk-container-id-10 label.sk-toggleable__label-arrow:before {content: \"▸\";float: left;margin-right: 0.25em;color: #696969;}#sk-container-id-10 label.sk-toggleable__label-arrow:hover:before {color: black;}#sk-container-id-10 div.sk-estimator:hover label.sk-toggleable__label-arrow:before {color: black;}#sk-container-id-10 div.sk-toggleable__content {max-height: 0;max-width: 0;overflow: hidden;text-align: left;background-color: #f0f8ff;}#sk-container-id-10 div.sk-toggleable__content pre {margin: 0.2em;color: black;border-radius: 0.25em;background-color: #f0f8ff;}#sk-container-id-10 input.sk-toggleable__control:checked~div.sk-toggleable__content {max-height: 200px;max-width: 100%;overflow: auto;}#sk-container-id-10 input.sk-toggleable__control:checked~label.sk-toggleable__label-arrow:before {content: \"▾\";}#sk-container-id-10 div.sk-estimator input.sk-toggleable__control:checked~label.sk-toggleable__label {background-color: #d4ebff;}#sk-container-id-10 div.sk-label input.sk-toggleable__control:checked~label.sk-toggleable__label {background-color: #d4ebff;}#sk-container-id-10 input.sk-hidden--visually {border: 0;clip: rect(1px 1px 1px 1px);clip: rect(1px, 1px, 1px, 1px);height: 1px;margin: -1px;overflow: hidden;padding: 0;position: absolute;width: 1px;}#sk-container-id-10 div.sk-estimator {font-family: monospace;background-color: #f0f8ff;border: 1px dotted black;border-radius: 0.25em;box-sizing: border-box;margin-bottom: 0.5em;}#sk-container-id-10 div.sk-estimator:hover {background-color: #d4ebff;}#sk-container-id-10 div.sk-parallel-item::after {content: \"\";width: 100%;border-bottom: 1px solid gray;flex-grow: 1;}#sk-container-id-10 div.sk-label:hover label.sk-toggleable__label {background-color: #d4ebff;}#sk-container-id-10 div.sk-serial::before {content: \"\";position: absolute;border-left: 1px solid gray;box-sizing: border-box;top: 0;bottom: 0;left: 50%;z-index: 0;}#sk-container-id-10 div.sk-serial {display: flex;flex-direction: column;align-items: center;background-color: white;padding-right: 0.2em;padding-left: 0.2em;position: relative;}#sk-container-id-10 div.sk-item {position: relative;z-index: 1;}#sk-container-id-10 div.sk-parallel {display: flex;align-items: stretch;justify-content: center;background-color: white;position: relative;}#sk-container-id-10 div.sk-item::before, #sk-container-id-10 div.sk-parallel-item::before {content: \"\";position: absolute;border-left: 1px solid gray;box-sizing: border-box;top: 0;bottom: 0;left: 50%;z-index: -1;}#sk-container-id-10 div.sk-parallel-item {display: flex;flex-direction: column;z-index: 1;position: relative;background-color: white;}#sk-container-id-10 div.sk-parallel-item:first-child::after {align-self: flex-end;width: 50%;}#sk-container-id-10 div.sk-parallel-item:last-child::after {align-self: flex-start;width: 50%;}#sk-container-id-10 div.sk-parallel-item:only-child::after {width: 0;}#sk-container-id-10 div.sk-dashed-wrapped {border: 1px dashed gray;margin: 0 0.4em 0.5em 0.4em;box-sizing: border-box;padding-bottom: 0.4em;background-color: white;}#sk-container-id-10 div.sk-label label {font-family: monospace;font-weight: bold;display: inline-block;line-height: 1.2em;}#sk-container-id-10 div.sk-label-container {text-align: center;}#sk-container-id-10 div.sk-container {/* jupyter's `normalize.less` sets `[hidden] { display: none; }` but bootstrap.min.css set `[hidden] { display: none !important; }` so we also need the `!important` here to be able to override the default hidden behavior on the sphinx rendered scikit-learn.org. See: https://github.com/scikit-learn/scikit-learn/issues/21755 */display: inline-block !important;position: relative;}#sk-container-id-10 div.sk-text-repr-fallback {display: none;}</style><div id=\"sk-container-id-10\" class=\"sk-top-container\"><div class=\"sk-text-repr-fallback\"><pre>HistGradientBoostingRegressor(learning_rate=0.05, max_iter=200)</pre><b>In a Jupyter environment, please rerun this cell to show the HTML representation or trust the notebook. <br />On GitHub, the HTML representation is unable to render, please try loading this page with nbviewer.org.</b></div><div class=\"sk-container\" hidden><div class=\"sk-item\"><div class=\"sk-estimator sk-toggleable\"><input class=\"sk-toggleable__control sk-hidden--visually\" id=\"sk-estimator-id-10\" type=\"checkbox\" checked><label for=\"sk-estimator-id-10\" class=\"sk-toggleable__label sk-toggleable__label-arrow\">HistGradientBoostingRegressor</label><div class=\"sk-toggleable__content\"><pre>HistGradientBoostingRegressor(learning_rate=0.05, max_iter=200)</pre></div></div></div></div></div>"
            ],
            "text/plain": [
              "HistGradientBoostingRegressor(learning_rate=0.05, max_iter=200)"
            ]
          },
          "execution_count": 103,
          "metadata": {},
          "output_type": "execute_result"
        }
      ],
      "source": [
        "from sklearn.ensemble import HistGradientBoostingRegressor\n",
        "\n",
        "best_hg = HistGradientBoostingRegressor(**Best_Hyperparameters)\n",
        "best_hg.fit(X_train, y_train)"
      ]
    },
    {
      "cell_type": "code",
      "execution_count": null,
      "metadata": {
        "id": "piMYfNGhWj2h",
        "outputId": "6ffed44b-9b5e-4101-9f5e-fbae68e7cbd0"
      },
      "outputs": [
        {
          "name": "stderr",
          "output_type": "stream",
          "text": [
            "[Parallel(n_jobs=-1)]: Using backend LokyBackend with 16 concurrent workers.\n",
            "[Parallel(n_jobs=-1)]: Done   3 out of  22 | elapsed:    6.6s remaining:   42.6s\n",
            "[Parallel(n_jobs=-1)]: Done  15 out of  22 | elapsed:    7.6s remaining:    3.5s\n",
            "[Parallel(n_jobs=-1)]: Done  22 out of  22 | elapsed:   10.1s finished\n",
            "\n",
            "[2023-06-03 21:53:54] Features: 1/22 -- score: -4207775715.6382995[Parallel(n_jobs=-1)]: Using backend LokyBackend with 16 concurrent workers.\n",
            "[Parallel(n_jobs=-1)]: Done  12 out of  21 | elapsed:   10.0s remaining:    7.5s\n",
            "[Parallel(n_jobs=-1)]: Done  21 out of  21 | elapsed:   13.9s finished\n",
            "\n",
            "[2023-06-03 21:54:08] Features: 2/22 -- score: -3695535291.6845155[Parallel(n_jobs=-1)]: Using backend LokyBackend with 16 concurrent workers.\n",
            "[Parallel(n_jobs=-1)]: Done  11 out of  20 | elapsed:    9.1s remaining:    7.4s\n",
            "[Parallel(n_jobs=-1)]: Done  20 out of  20 | elapsed:   12.8s finished\n",
            "\n",
            "[2023-06-03 21:54:21] Features: 3/22 -- score: -3487607824.287309[Parallel(n_jobs=-1)]: Using backend LokyBackend with 16 concurrent workers.\n",
            "[Parallel(n_jobs=-1)]: Done   8 out of  19 | elapsed:    8.2s remaining:   11.3s\n",
            "[Parallel(n_jobs=-1)]: Done  19 out of  19 | elapsed:   12.8s finished\n",
            "\n",
            "[2023-06-03 21:54:34] Features: 4/22 -- score: -3411724534.7228603[Parallel(n_jobs=-1)]: Using backend LokyBackend with 16 concurrent workers.\n",
            "[Parallel(n_jobs=-1)]: Done   7 out of  18 | elapsed:    8.7s remaining:   13.8s\n",
            "[Parallel(n_jobs=-1)]: Done  18 out of  18 | elapsed:   13.2s finished\n",
            "\n",
            "[2023-06-03 21:54:47] Features: 5/22 -- score: -3379960882.123159[Parallel(n_jobs=-1)]: Using backend LokyBackend with 16 concurrent workers.\n",
            "[Parallel(n_jobs=-1)]: Done   4 out of  17 | elapsed:    8.5s remaining:   28.0s\n",
            "[Parallel(n_jobs=-1)]: Done  13 out of  17 | elapsed:   10.2s remaining:    3.1s\n",
            "[Parallel(n_jobs=-1)]: Done  17 out of  17 | elapsed:   13.0s finished\n",
            "\n",
            "[2023-06-03 21:55:00] Features: 6/22 -- score: -3328293077.619449[Parallel(n_jobs=-1)]: Using backend LokyBackend with 16 concurrent workers.\n",
            "[Parallel(n_jobs=-1)]: Done   3 out of  16 | elapsed:    8.0s remaining:   35.2s\n",
            "[Parallel(n_jobs=-1)]: Done  12 out of  16 | elapsed:   10.7s remaining:    3.5s\n",
            "[Parallel(n_jobs=-1)]: Done  16 out of  16 | elapsed:   10.8s finished\n",
            "\n",
            "[2023-06-03 21:55:11] Features: 7/22 -- score: -3316922003.1302285[Parallel(n_jobs=-1)]: Using backend LokyBackend with 16 concurrent workers.\n",
            "[Parallel(n_jobs=-1)]: Done   8 out of  15 | elapsed:    9.4s remaining:    8.2s\n",
            "[Parallel(n_jobs=-1)]: Done  15 out of  15 | elapsed:    9.9s finished\n",
            "\n",
            "[2023-06-03 21:55:21] Features: 8/22 -- score: -3278681747.4338183[Parallel(n_jobs=-1)]: Using backend LokyBackend with 16 concurrent workers.\n",
            "[Parallel(n_jobs=-1)]: Done   7 out of  14 | elapsed:    9.2s remaining:    9.2s\n",
            "[Parallel(n_jobs=-1)]: Done  14 out of  14 | elapsed:    9.6s finished\n",
            "\n",
            "[2023-06-03 21:55:31] Features: 9/22 -- score: -3273755689.773755[Parallel(n_jobs=-1)]: Using backend LokyBackend with 16 concurrent workers.\n",
            "[Parallel(n_jobs=-1)]: Done   3 out of  13 | elapsed:   10.3s remaining:   34.6s\n",
            "[Parallel(n_jobs=-1)]: Done  10 out of  13 | elapsed:   10.9s remaining:    3.2s\n",
            "[Parallel(n_jobs=-1)]: Done  13 out of  13 | elapsed:   11.3s finished\n",
            "\n",
            "[2023-06-03 21:55:42] Features: 10/22 -- score: -3246232027.6514845[Parallel(n_jobs=-1)]: Using backend LokyBackend with 16 concurrent workers.\n",
            "[Parallel(n_jobs=-1)]: Done   2 out of  12 | elapsed:    8.5s remaining:   42.9s\n",
            "[Parallel(n_jobs=-1)]: Done   9 out of  12 | elapsed:    8.8s remaining:    2.9s\n",
            "[Parallel(n_jobs=-1)]: Done  12 out of  12 | elapsed:    8.8s finished\n",
            "\n",
            "[2023-06-03 21:55:51] Features: 11/22 -- score: -3261441616.3573465[Parallel(n_jobs=-1)]: Using backend LokyBackend with 16 concurrent workers.\n",
            "[Parallel(n_jobs=-1)]: Done   4 out of  11 | elapsed:    8.1s remaining:   14.2s\n",
            "[Parallel(n_jobs=-1)]: Done  11 out of  11 | elapsed:    8.2s finished\n",
            "\n",
            "[2023-06-03 21:56:00] Features: 12/22 -- score: -3261427240.880339[Parallel(n_jobs=-1)]: Using backend LokyBackend with 16 concurrent workers.\n",
            "[Parallel(n_jobs=-1)]: Done   3 out of  10 | elapsed:    7.8s remaining:   18.4s\n",
            "[Parallel(n_jobs=-1)]: Done  10 out of  10 | elapsed:    8.0s finished\n",
            "\n",
            "[2023-06-03 21:56:08] Features: 13/22 -- score: -3242735591.973403[Parallel(n_jobs=-1)]: Using backend LokyBackend with 16 concurrent workers.\n",
            "[Parallel(n_jobs=-1)]: Done   3 out of   9 | elapsed:    8.2s remaining:   16.5s\n",
            "[Parallel(n_jobs=-1)]: Done   9 out of   9 | elapsed:    8.4s finished\n",
            "\n",
            "[2023-06-03 21:56:16] Features: 14/22 -- score: -3247890104.997369[Parallel(n_jobs=-1)]: Using backend LokyBackend with 16 concurrent workers.\n",
            "[Parallel(n_jobs=-1)]: Done   2 out of   8 | elapsed:    7.4s remaining:   22.3s\n",
            "[Parallel(n_jobs=-1)]: Done   8 out of   8 | elapsed:    7.5s finished\n",
            "\n",
            "[2023-06-03 21:56:24] Features: 15/22 -- score: -3224793002.3601904[Parallel(n_jobs=-1)]: Using backend LokyBackend with 16 concurrent workers.\n",
            "[Parallel(n_jobs=-1)]: Done   4 out of   7 | elapsed:    7.2s remaining:    5.4s\n",
            "[Parallel(n_jobs=-1)]: Done   7 out of   7 | elapsed:    7.2s finished\n",
            "\n",
            "[2023-06-03 21:56:31] Features: 16/22 -- score: -3234337503.1767116[Parallel(n_jobs=-1)]: Using backend LokyBackend with 16 concurrent workers.\n",
            "[Parallel(n_jobs=-1)]: Done   3 out of   6 | elapsed:    6.4s remaining:    6.4s\n",
            "[Parallel(n_jobs=-1)]: Done   6 out of   6 | elapsed:    6.5s finished\n",
            "\n",
            "[2023-06-03 21:56:38] Features: 17/22 -- score: -3226133034.705831[Parallel(n_jobs=-1)]: Using backend LokyBackend with 16 concurrent workers.\n",
            "[Parallel(n_jobs=-1)]: Done   5 out of   5 | elapsed:    6.6s finished\n",
            "\n",
            "[2023-06-03 21:56:44] Features: 18/22 -- score: -3241783149.326211[Parallel(n_jobs=-1)]: Using backend LokyBackend with 16 concurrent workers.\n",
            "[Parallel(n_jobs=-1)]: Done   4 out of   4 | elapsed:    7.0s finished\n",
            "\n",
            "[2023-06-03 21:56:51] Features: 19/22 -- score: -3262652945.8629675[Parallel(n_jobs=-1)]: Using backend LokyBackend with 16 concurrent workers.\n",
            "[Parallel(n_jobs=-1)]: Done   3 out of   3 | elapsed:    6.5s finished\n",
            "\n",
            "[2023-06-03 21:56:58] Features: 20/22 -- score: -3274216274.948304[Parallel(n_jobs=-1)]: Using backend LokyBackend with 16 concurrent workers.\n",
            "[Parallel(n_jobs=-1)]: Done   2 out of   2 | elapsed:    5.6s finished\n",
            "\n",
            "[2023-06-03 21:57:04] Features: 21/22 -- score: -3252845498.24882[Parallel(n_jobs=-1)]: Using backend LokyBackend with 16 concurrent workers.\n"
          ]
        },
        {
          "name": "stdout",
          "output_type": "stream",
          "text": [
            "\n",
            "Sequential Forward Selection :\n",
            "(0, 1, 3, 4, 5, 7, 8, 9, 10, 11, 14, 16, 17, 18, 20)\n",
            "CV Score:\n",
            "-3224793002.3601904\n",
            "CPU times: total: 9.2 s\n",
            "Wall time: 3min 25s\n"
          ]
        },
        {
          "name": "stderr",
          "output_type": "stream",
          "text": [
            "[Parallel(n_jobs=-1)]: Done   1 out of   1 | elapsed:    5.3s finished\n",
            "\n",
            "[2023-06-03 21:57:09] Features: 22/22 -- score: -3334806325.096121"
          ]
        }
      ],
      "source": [
        "%%time\n",
        "\n",
        "from mlxtend.feature_selection import SequentialFeatureSelector as SFS\n",
        "# Sequential Forward Selection\n",
        "sfs_hg = SFS(best_hg,\n",
        "          k_features=(1,22),\n",
        "          forward=True,\n",
        "          floating=False,\n",
        "          scoring='neg_mean_squared_error',\n",
        "          verbose=2,\n",
        "          n_jobs=-1,\n",
        "          cv=10)\n",
        "sfs_hg = sfs_hg.fit(X_train, y_train)\n",
        "\n",
        "print('\\nSequential Forward Selection :')\n",
        "print(sfs_hg.k_feature_idx_)\n",
        "print('CV Score:')\n",
        "print(sfs_hg.k_score_)"
      ]
    },
    {
      "cell_type": "code",
      "execution_count": null,
      "metadata": {
        "id": "jOXzPBbkWj2i",
        "outputId": "682d3c03-d96f-4952-a09f-647849be0580"
      },
      "outputs": [
        {
          "name": "stdout",
          "output_type": "stream",
          "text": [
            "Test set R2: 0.45\n",
            "Test set MSE: 2104614701.60\n",
            "Test set MAE: 19024.37\n",
            "Train set R2: 0.66\n"
          ]
        }
      ],
      "source": [
        "#Check accuracy for feature selection here\n",
        "\n",
        "X_train_sfs = sfs_hg.transform(X_train)\n",
        "X_test_sfs = sfs_hg.transform(X_test)\n",
        "\n",
        "# Fit the estimator using the new feature subset\n",
        "# and make a prediction on the test data\n",
        "best_hg.fit(X_train_sfs, y_train)\n",
        "y_pred = best_hg.predict(X_test_sfs)\n",
        "train_y_pred = best_hg.predict(X_train_sfs)\n",
        "\n",
        "#Compute the mean squared error of the prediction\n",
        "r2 = r2_score(y_test, y_pred)\n",
        "print('Test set R2: %.2f' % r2)\n",
        "#Compute the mean squared error of the prediction\n",
        "mse = mean_squared_error(y_test, y_pred)\n",
        "print('Test set MSE: %.2f' % mse)\n",
        "#Compute the mean squared error of the prediction\n",
        "mae = mean_absolute_error(y_test, y_pred)\n",
        "print('Test set MAE: %.2f' % mae)\n",
        "\n",
        "#Compute the mean squared error of the prediction\n",
        "train_mse = r2_score(y_train, train_y_pred)\n",
        "print('Train set R2: %.2f' % train_mse)"
      ]
    },
    {
      "cell_type": "markdown",
      "metadata": {
        "id": "rDc7aDAMWj2i"
      },
      "source": [
        "# Explainable AI"
      ]
    },
    {
      "cell_type": "code",
      "execution_count": null,
      "metadata": {
        "id": "5uuVb4hoWj2i"
      },
      "outputs": [],
      "source": [
        "import shap\n",
        "\n",
        "explainer = shap.TreeExplainer(best_lgbm)\n",
        "shap_values = explainer(X_test)"
      ]
    },
    {
      "cell_type": "code",
      "execution_count": null,
      "metadata": {
        "id": "nwooZFPKWj2j",
        "outputId": "3319b27f-a2e7-4342-860c-31d6a3b8693b"
      },
      "outputs": [
        {
          "data": {
            "image/png": "[encoded data removed]",
            "text/plain": [
              "<Figure size 800x950 with 1 Axes>"
            ]
          },
          "metadata": {},
          "output_type": "display_data"
        }
      ],
      "source": [
        "shap.summary_plot(shap_values, X_test,plot_type=\"bar\")"
      ]
    },
    {
      "cell_type": "code",
      "execution_count": null,
      "metadata": {
        "id": "F28ratWUWj2j",
        "outputId": "88efcedc-7e0e-4c7e-a71b-2a31dc1de733"
      },
      "outputs": [
        {
          "data": {
            "image/png": "[encoded data removed]",
            "text/plain": [
              "<Figure size 800x750 with 1 Axes>"
            ]
          },
          "metadata": {},
          "output_type": "display_data"
        }
      ],
      "source": [
        "shap.plots.bar(shap_values,max_display=12)"
      ]
    },
    {
      "cell_type": "code",
      "execution_count": null,
      "metadata": {
        "id": "LMeO6vAMWj2j",
        "outputId": "f6186712-ca00-41ad-a967-a6527bd2fe2f"
      },
      "outputs": [
        {
          "name": "stderr",
          "output_type": "stream",
          "text": [
            "No data for colormapping provided via 'c'. Parameters 'vmin', 'vmax' will be ignored\n"
          ]
        },
        {
          "data": {
            "image/png": "[encoded data removed]",
            "text/plain": [
              "<Figure size 800x950 with 2 Axes>"
            ]
          },
          "metadata": {},
          "output_type": "display_data"
        }
      ],
      "source": [
        "shap.summary_plot(shap_values, X_test)"
      ]
    },
    {
      "cell_type": "code",
      "execution_count": null,
      "metadata": {
        "id": "DIx8dG9QWj2k"
      },
      "outputs": [],
      "source": []
    }
  ],
  "metadata": {
    "colab": {
      "provenance": []
    },
    "kernelspec": {
      "display_name": "Python 3 (ipykernel)",
      "language": "python",
      "name": "python3"
    },
    "language_info": {
      "codemirror_mode": {
        "name": "ipython",
        "version": 3
      },
      "file_extension": ".py",
      "mimetype": "text/x-python",
      "name": "python",
      "nbconvert_exporter": "python",
      "pygments_lexer": "ipython3",
      "version": "3.9.16"
    }
  },
  "nbformat": 4,
  "nbformat_minor": 0
}